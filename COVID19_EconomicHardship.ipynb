{
 "cells": [
  {
   "cell_type": "markdown",
   "metadata": {
    "colab_type": "text",
    "id": "9GKCSI-Z5z_D"
   },
   "source": [
    "# A study of the influence of economic hardship upon total infections with Covid-19 in the USA #"
   ]
  },
  {
   "cell_type": "markdown",
   "metadata": {
    "colab_type": "text",
    "id": "_0M0HWUn5z_E"
   },
   "source": [
    "![Header_strip](Covid-19_strip.jpg)"
   ]
  },
  {
   "cell_type": "markdown",
   "metadata": {
    "colab_type": "text",
    "id": "I4lTjK7r5z_F"
   },
   "source": [
    "## Research Question "
   ]
  },
  {
   "cell_type": "markdown",
   "metadata": {
    "colab_type": "text",
    "id": "YxKJrJav5z_G"
   },
   "source": [
    "This study focusses upon whether or not an estimate of poverty can be indicative of the total Covid-19 positive cases reported in the United States of America and the states therein."
   ]
  },
  {
   "cell_type": "markdown",
   "metadata": {
    "colab_type": "text",
    "id": "CgBSWkyO5z_H"
   },
   "source": [
    "## The Data"
   ]
  },
  {
   "cell_type": "markdown",
   "metadata": {
    "colab_type": "text",
    "id": "FXt_CKcQ5z_I"
   },
   "source": [
    "The data for this study was gathered from the **_COVID-19 US state policy database (CUSP)_**, based on information accumulated by Nocka K, Jones D, Bor J, Lipson S, Jay J, and Chan P.    \n",
    "The information can be sourced and utlised though accessing the source data, whose location is detailed in **reference [1]**.    \n",
    "The data includes columnar data for various metrics of infections, death rates/totals, policy implementations and a host of other measures collated into one contiguous database related specifically to the Coronavirus pandemic as experienced in the United States.   \n",
    "Row data in the dataset represents the individual state territories of the United States of America; this data relates solely to that soveriegn nation.    "
   ]
  },
  {
   "cell_type": "markdown",
   "metadata": {
    "colab_type": "text",
    "id": "BfW5w_1p5z_J"
   },
   "source": [
    "## Introduction"
   ]
  },
  {
   "cell_type": "markdown",
   "metadata": {
    "colab_type": "text",
    "id": "OskbwJ-i5z_J"
   },
   "source": [
    "This study focuses upon whether or not an estimate of poverty can be indicative of the total Covid-19 positive cases reported in the United States of America and the states therein.  Should a relationship prove difficult to evidence that will be explained in the context of other available and omitted variables as the regression evolves.\n",
    "\n",
    "The Covid-19 pandemic has left an indelible mark upon the world.  The disease has brought death, serious illness, massive economic decline and an immobilisation of the greater proportion of international transport across the planet.  In this work the authors do not seek to address all of those issues.  In this treatise we focus narrowly and attempt to investigate, using inferential statistics, a possible connection between poverty and its possible associative role in exacerbating the total number of positive cases reported by each state of the United States of America.\n",
    "\n",
    "In this study therefore we will use the Covid-19 incidence totals from column **<em>“Total cases”</em>** from the aggregated database, previously introduced, and will investigate a possible relationship to an operationalized measure of poverty to investigate any possible relationship between the two.  The **<em>“Total cases”</em>** measure will be our response be used to create a new variable which is the fraction of total cases per total state population.  So to be clear the new reponse variable will be the **<em>“Total cases”</em>** divided by the **<em>Population.2018</em>**.  This will be our response variable.\n",
    "The concept of poverty is relatively easy to see and even experience but difficult to measure directly.  In this study we will operationalize the **<em>“Percentage living under the Federal poverty line (2018)”</em>** as a metric of poverty.  This variable is quoted as a percentage and we will divide it by one hundred to put it in fractional form.  This will be our first independent variable.  Other independent variables will be operationalized and introduced as the study evolves to put the research questions in proper context."
   ]
  },
  {
   "cell_type": "markdown",
   "metadata": {
    "colab_type": "text",
    "id": "Ue81RBg85z_L"
   },
   "source": [
    "![Poverty_distribution_USA](poverty_distribution_USA.jpg)    \n",
    "**_Figure 1: Percentage of People in Poverty by State: 2018, [2]._**"
   ]
  },
  {
   "cell_type": "markdown",
   "metadata": {
    "colab_type": "text",
    "id": "H0oLMxdC5z_N"
   },
   "source": [
    "The poverty line is often defined as the minimum level of income deemed adequate in any particular country; as such it is considered an appropriate measure of economic hardship. In 2018 approximately 38.1 million people or 11.8% of the population in the USA had incomes below the official definition of poverty. The poverty threshold, represented as the ‘poverty line’ variable in the database as a percentage of the state population, is calibrated separately in each state based upon household income before taxes and the number of dependents in each respective household. This measure is not age differentiated. Poverty rates vary by household make-up, single-families and race. Poverty rates are not equally prevalent across all states, as can be seen in **Figure 1**. The poverty thresholds and ‘poverty line’ are established by the Census Bureau, an agency of the Federal government.  Socioeconomic status has been stated as the most powerful predictor of disease, disorder, injury and mortality **[3]**. The World Health Organisation have stated that “the social determinants of health are mostly responsible for health inequities” **[4]**. In this study therefore we will investigate the Covid-19 incidence totals from column “Total cases” and possible connection an operationalized measure of poverty to investigate any possible relationship between the two."
   ]
  },
  {
   "cell_type": "markdown",
   "metadata": {
    "colab_type": "text",
    "id": "OINGZXPE5z_O"
   },
   "source": [
    "## Conceptual Model Framework"
   ]
  },
  {
   "cell_type": "markdown",
   "metadata": {
    "colab_type": "text",
    "id": "k1TPPBll5z_Q"
   },
   "source": [
    "The relationship or model to relate the variables identified will be a linear regression of the effect on total infections in a state  $\\hat{y}_{positive\\_cases}$ as a linear function of the poverty line percentages $x_{poverty\\_line}$, the relationship being established in equation:    \n",
    "\n",
    "$$\\hat{y}_{positive\\_cases}=fn(x_{poverty},x_{relevant\\_vars})$$.\n",
    "\n",
    "Where ${x}_1$ = $x_{poverty}$,\n",
    "    \n",
    "and $x_{relevant\\_vars}$ is a set of relevant varibles ${x}_i$ ; $i=\\{2,3,...,n\\}$\n",
    "\n",
    "The general form of a linear relationship between a dependent (response) variable with and a number of independent variables is provided with the expression below.\n",
    "\n",
    "$$\\hat{y} = \\hat{\\beta}_0 +  \\hat{\\beta}_1x_{1}  +  \\hat{\\beta}_2x_{2}  + ... +  \\hat{\\beta}_nx_{n}  +  \\epsilon$$    \n",
    "\n",
    "Where $\\hat{\\beta}_0$ is the intercept of the straight line fit. $\\hat{\\beta}_1$, $\\hat{\\beta}_2$, etc... represent the average change in the dependent variable per unit change in that independent variable $x$.  In a linear response with only one independent variable, $\\hat{\\beta}_1$ represents the slope of the regression, which is the partial effect of independent variable $x_{1}$ upon $\\hat{y}$.    \n",
    "    \n",
    "$\\epsilon$ is the residual, being the difference between the observed sample data point and the predicted value of the reponse variable."
   ]
  },
  {
   "cell_type": "markdown",
   "metadata": {
    "colab_type": "text",
    "id": "JsBhM4Wx5z_R"
   },
   "source": [
    "## Classical Linear Model (CLM) Assumptions"
   ]
  },
  {
   "cell_type": "markdown",
   "metadata": {
    "colab_type": "text",
    "id": "_gl1kOD95z_S"
   },
   "source": [
    "1. [CLM (1)] For Multiple Linear Regression(MLR) we assume that the model of population is **linear in the parameters**:\n",
    "$$\\hat{y} = \\hat{\\beta}_0 +  \\hat{\\beta}_1x_{1} + \\epsilon$$\n",
    "   The regression model is linear in the coefficients $\\hat{\\beta}$'s and error term $\\epsilon$. Where the $\\hat{\\beta}$'s are parameters of the OLS estimators. To satisfy this assumption the correctly specified model must fit the linear pattern.\n",
    "2. [CLM (2)]: **The error term has a population mean of zero**. The error term accounts for the variation of dependent variable that the independent variables do not explain. Random chance should determine the values of error term $\\epsilon$. For the model to be unbiased the average of the error term must equate to zero, sometimes called the zero conditional mean; whereby an error $\\epsilon$ has $n$ expected value of zero given a value $x$, such that $E[\\epsilon│x]=0$. It necessarily follows in such a case that the correlation of $\\epsilon$ and $x$, $Cor[\\epsilon│x]=0$, is equal to zero. A systematic non-zero average error would indicate a bias in the model, indicating that the model is not adequate in predicting the dependent accurately.\n",
    "3. [CLM (3)]: **All independent variables are uncorrelated with the error term**. If an independent variable correlates with the error term, then it means that the error term can be predicted using the predictor, which in turn violates the randomness of the error. This assumption is called **exogeneity**. When this error-predictor correlation exists it is called **endogeneity**.\n",
    "4. [CLM (4)]: **Observations of the error term are uncorrelated to one another**. One observation should not predict the next.\n",
    "5. [CLM (5)]: **The error term has a constant variance**, exhibiting no **heteroscedasticity** (different scatter). The variance of errors should be consistent for all draws. The preferred situation is called **homocedasticity** (same scatter).\n",
    "6. [CLM (6)]: **No independent variable is a perfect linear function of the other explanatory variables**. Perfect correlation occurs when two variables have a Pearson’s correlation coefficient of ±1. When one variable changes the linked variable changes by a fixed proportion, meaning the variables move in unison. OLS would not be able to distinguish one variable from the other. If the correlations are high enough they can cause issues, this is called **multicollinearity**.\n",
    "7. [CLM (7)]: **The error term preferably should be normally distributed**. If the error term does follow a normal distribution we can perform statistical hypothesis testing and generate reliable confidence and prediction intervals."
   ]
  },
  {
   "cell_type": "markdown",
   "metadata": {
    "colab_type": "text",
    "id": "1sAwAzqR5z_T"
   },
   "source": [
    "In the interim multiple regression model (MLR) analysis, ignorance or data unavailability of other variables not detailed in the database is assumed.  Missing or omitted variables can affect the trustworthyness of the analysis and can introduce bias in the estimation of the coefficients of the regression.  We therefore estimate the model, at least initially in their absence and consider $\\hat{y}$ in relation to $x_{1}$ alone. Other variables may be added to the discussion to conduct a multi-variate analysis as the investigative study evolves.  They will be discussed as and when they are introduced."
   ]
  },
  {
   "cell_type": "markdown",
   "metadata": {
    "colab_type": "text",
    "id": "1b0-AVyw5z_T"
   },
   "source": [
    "## Exploratory Data Analysis"
   ]
  },
  {
   "cell_type": "markdown",
   "metadata": {
    "colab_type": "text",
    "id": "vgsoNK_X5z_U"
   },
   "source": [
    "In this section, libraries are loaded, data is loaded, data is explored and prepared to modeling."
   ]
  },
  {
   "cell_type": "code",
   "execution_count": 36,
   "metadata": {
    "colab": {
     "base_uri": "https://localhost:8080/",
     "height": 119
    },
    "colab_type": "code",
    "collapsed": false,
    "id": "Dge3nTkC_nGg",
    "outputId": "30ea2f90-d028-42e8-d4da-3defe126bcdb"
   },
   "outputs": [],
   "source": [
    "#install.packages(\"openxlsx\")\n",
    "#install.packages(\"lmtest\")\n",
    "#install.packages(\"sandwich\")\n",
    "#install.packages(\"stargazer\")\n",
    "#install.packages(\"ggplot2\")\n",
    "#install.packages(\"gridExtra\")\n",
    "#install.packages(\"RCurl\")\n",
    "#install.packages(\"readr\")\n",
    "#install.packages(\"tidyverse\")\n",
    "#install.packages(\"spm\")\n",
    "#install.packages(\"Hmisc\")\n",
    "#install.packages(\"car\")"
   ]
  },
  {
   "cell_type": "markdown",
   "metadata": {
    "colab_type": "text",
    "id": "55PHZZm568tN"
   },
   "source": [
    "### Load libraries"
   ]
  },
  {
   "cell_type": "code",
   "execution_count": 5,
   "metadata": {
    "colab": {
     "base_uri": "https://localhost:8080/",
     "height": 289
    },
    "colab_type": "code",
    "collapsed": false,
    "id": "AofS0GhL5z_V",
    "outputId": "58585298-da53-480d-b4e8-0f185f4ee328"
   },
   "outputs": [],
   "source": [
    "# Loading the several libraries we will need for their internal functions necessary for the ensuing analysis\n",
    "library(zoo)\n",
    "library(openxlsx)\n",
    "library(ggplot2)\n",
    "library(gridExtra)\n",
    "library(lmtest)\n",
    "library(sandwich)\n",
    "library(stargazer)\n",
    "library(car)\n",
    "library(corrplot)\n",
    "library(rcompanion)\n",
    "library(tidyverse)\n",
    "library(Hmisc)\n",
    "# set default digit precision to 5\n",
    "options(digits=5)"
   ]
  },
  {
   "cell_type": "markdown",
   "metadata": {
    "colab_type": "text",
    "id": "WUuI47Ic6udi"
   },
   "source": [
    "### Data Loaded\n",
    "\n",
    "Here the data is loaded for the first time. To understand the dataset better, the summary function is called and the first five rows are previewed with the head function."
   ]
  },
  {
   "cell_type": "code",
   "execution_count": 6,
   "metadata": {
    "colab": {
     "base_uri": "https://localhost:8080/",
     "height": 1000
    },
    "colab_type": "code",
    "collapsed": false,
    "id": "GubuntBk5z_a",
    "outputId": "e31eae4a-27d3-44f1-a650-bac171191b0e"
   },
   "outputs": [
    {
     "data": {
      "text/plain": [
       "    State            Total.Cases      Total.Death      Death_100k   \n",
       " Length:52          Min.   :   939   Min.   :   16   Min.   :  1.3  \n",
       " Class :character   1st Qu.: 11882   1st Qu.:  276   1st Qu.:  9.5  \n",
       " Mode  :character   Median : 31305   Median :  812   Median : 18.2  \n",
       "                    Mean   : 55332   Mean   : 2493   Mean   : 42.0  \n",
       "                    3rd Qu.: 67052   3rd Qu.: 2735   3rd Qu.: 43.3  \n",
       "                    Max.   :398828   Max.   :31906   Max.   :354.3  \n",
       "                                                                    \n",
       " CasesInLast7Days RatePer100000    totalTestResults  State.of.emergency\n",
       " Min.   :   51    Min.   :  66.1   Min.   :  35327   Min.   :43890     \n",
       " 1st Qu.:  960    1st Qu.: 467.5   1st Qu.: 187374   1st Qu.:43899     \n",
       " Median : 3218    Median : 723.9   Median : 419509   Median :43901     \n",
       " Mean   : 7859    Mean   : 837.3   Mean   : 699739   Mean   :43901     \n",
       " 3rd Qu.: 6113    3rd Qu.:1036.4   3rd Qu.: 813577   3rd Qu.:43903     \n",
       " Max.   :66984    Max.   :4220.4   Max.   :4680138   Max.   :43906     \n",
       "                                   NA's   :1                           \n",
       " Stay.at.home/.shelter.in.place End/relax.stay.at.home/shelter.in.place\n",
       " Min.   :    0                  Min.   :    0                          \n",
       " 1st Qu.:43910                  1st Qu.:    0                          \n",
       " Median :43915                  Median :43955                          \n",
       " Mean   :33783                  Mean   :30439                          \n",
       " 3rd Qu.:43920                  3rd Qu.:43969                          \n",
       " Max.   :43928                  Max.   :44001                          \n",
       "                                                                       \n",
       " Closed.non-essential.businesses Began.to.reopen.businesses.statewide\n",
       " Min.   :    0                   Min.   :    0                       \n",
       " 1st Qu.:43910                   1st Qu.:43952                       \n",
       " Median :43914                   Median :43958                       \n",
       " Mean   :34626                   Mean   :43114                       \n",
       " 3rd Qu.:43918                   3rd Qu.:43966                       \n",
       " Max.   :43924                   Max.   :43987                       \n",
       "                                                                     \n",
       " Mandate.face.mask.use.by.employees.in.public-facing.businesses\n",
       " Min.   :    0                                                 \n",
       " 1st Qu.:43935                                                 \n",
       " Median :43951                                                 \n",
       " Mean   :35500                                                 \n",
       " 3rd Qu.:43957                                                 \n",
       " Max.   :44008                                                 \n",
       "                                                               \n",
       " Weekly.unemployment.insurance.maximum.amount.(dollars)\n",
       " Min.   :190                                           \n",
       " 1st Qu.:369                                           \n",
       " Median :449                                           \n",
       " Mean   :456                                           \n",
       " 3rd Qu.:526                                           \n",
       " Max.   :823                                           \n",
       "                                                       \n",
       " Population.density.per.square.miles Population.2018   \n",
       " Min.   :    1.1                     Min.   :  577737  \n",
       " 1st Qu.:   51.7                     1st Qu.: 1792926  \n",
       " Median :   91.1                     Median : 4564190  \n",
       " Mean   :  386.3                     Mean   : 6429598  \n",
       " 3rd Qu.:  204.3                     3rd Qu.: 7262632  \n",
       " Max.   :11496.8                     Max.   :39557045  \n",
       "                                                       \n",
       " Percent.living.under.the.federal.poverty.line.(2018)\n",
       " Min.   : 7.6                                        \n",
       " 1st Qu.:11.0                                        \n",
       " Median :12.8                                        \n",
       " Mean   :12.9                                        \n",
       " 3rd Qu.:14.2                                        \n",
       " Max.   :19.7                                        \n",
       "                                                     \n",
       " Percent.at.risk.for.serious.illness.due.to.COVID All-cause.deaths.2018\n",
       " Min.   :30.0                                     Min.   :  4453       \n",
       " 1st Qu.:36.0                                     1st Qu.: 16357       \n",
       " Median :38.6                                     Median : 42839       \n",
       " Mean   :38.2                                     Mean   : 55740       \n",
       " 3rd Qu.:40.6                                     3rd Qu.: 66610       \n",
       " Max.   :49.3                                     Max.   :268818       \n",
       "                                                                       \n",
       " Children.0-18    Adults.19-25     Adults.26-34    Adults.35-54  \n",
       " Min.   :0.190   Min.   :0.0700   Min.   :0.110   Min.   :0.230  \n",
       " 1st Qu.:0.225   1st Qu.:0.0800   1st Qu.:0.120   1st Qu.:0.250  \n",
       " Median :0.240   Median :0.0900   Median :0.120   Median :0.250  \n",
       " Mean   :0.237   Mean   :0.0871   Mean   :0.123   Mean   :0.253  \n",
       " 3rd Qu.:0.250   3rd Qu.:0.0900   3rd Qu.:0.130   3rd Qu.:0.260  \n",
       " Max.   :0.310   Max.   :0.1100   Max.   :0.210   Max.   :0.270  \n",
       " NA's   :1                        NA's   :1                      \n",
       "  Adults.55-64        65+       \n",
       " Min.   :0.100   Min.   :0.110  \n",
       " 1st Qu.:0.130   1st Qu.:0.160  \n",
       " Median :0.130   Median :0.160  \n",
       " Mean   :0.134   Mean   :0.165  \n",
       " 3rd Qu.:0.140   3rd Qu.:0.180  \n",
       " Max.   :0.160   Max.   :0.210  \n",
       " NA's   :1                      "
      ]
     },
     "metadata": {},
     "output_type": "display_data"
    },
    {
     "data": {
      "text/html": [
       "<table>\n",
       "<caption>A data.frame: 5 × 25</caption>\n",
       "<thead>\n",
       "\t<tr><th></th><th scope=col>State</th><th scope=col>Total.Cases</th><th scope=col>Total.Death</th><th scope=col>Death_100k</th><th scope=col>CasesInLast7Days</th><th scope=col>RatePer100000</th><th scope=col>totalTestResults</th><th scope=col>State.of.emergency</th><th scope=col>Stay.at.home/.shelter.in.place</th><th scope=col>End/relax.stay.at.home/shelter.in.place</th><th scope=col>...</th><th scope=col>Population.2018</th><th scope=col>Percent.living.under.the.federal.poverty.line.(2018)</th><th scope=col>Percent.at.risk.for.serious.illness.due.to.COVID</th><th scope=col>All-cause.deaths.2018</th><th scope=col>Children.0-18</th><th scope=col>Adults.19-25</th><th scope=col>Adults.26-34</th><th scope=col>Adults.35-54</th><th scope=col>Adults.55-64</th><th scope=col>65+</th></tr>\n",
       "\t<tr><th></th><th scope=col>&lt;chr&gt;</th><th scope=col>&lt;dbl&gt;</th><th scope=col>&lt;dbl&gt;</th><th scope=col>&lt;dbl&gt;</th><th scope=col>&lt;dbl&gt;</th><th scope=col>&lt;dbl&gt;</th><th scope=col>&lt;dbl&gt;</th><th scope=col>&lt;dbl&gt;</th><th scope=col>&lt;dbl&gt;</th><th scope=col>&lt;dbl&gt;</th><th scope=col>...</th><th scope=col>&lt;dbl&gt;</th><th scope=col>&lt;dbl&gt;</th><th scope=col>&lt;dbl&gt;</th><th scope=col>&lt;dbl&gt;</th><th scope=col>&lt;dbl&gt;</th><th scope=col>&lt;dbl&gt;</th><th scope=col>&lt;dbl&gt;</th><th scope=col>&lt;dbl&gt;</th><th scope=col>&lt;dbl&gt;</th><th scope=col>&lt;dbl&gt;</th></tr>\n",
       "</thead>\n",
       "<tbody>\n",
       "\t<tr><th scope=row>1</th><td>Alabama </td><td>44909</td><td>1009</td><td>20.6</td><td> 9804</td><td> 918.8</td><td>449886</td><td>43903</td><td>43925</td><td>43951</td><td>...</td><td>4887871</td><td>16.8</td><td>43.1</td><td>54352</td><td>0.24</td><td>0.09</td><td>0.12</td><td>0.25</td><td>0.14</td><td>0.17</td></tr>\n",
       "\t<tr><th scope=row>2</th><td>Alaska  </td><td> 1138</td><td>  16</td><td> 2.2</td><td>  284</td><td> 154.3</td><td>122732</td><td>43901</td><td>43918</td><td>43945</td><td>...</td><td> 737438</td><td>10.9</td><td>32.8</td><td> 4453</td><td>0.27</td><td>0.09</td><td>0.13</td><td>0.26</td><td>0.13</td><td>0.12</td></tr>\n",
       "\t<tr><th scope=row>3</th><td>Arizona </td><td>83376</td><td>1538</td><td>25.2</td><td>28038</td><td>1367.7</td><td>604362</td><td>43901</td><td>43921</td><td>43967</td><td>...</td><td>7171646</td><td>14.0</td><td>39.1</td><td>59282</td><td>0.24</td><td>0.09</td><td>0.12</td><td>0.24</td><td>0.12</td><td>0.18</td></tr>\n",
       "\t<tr><th scope=row>4</th><td>arizona </td><td>14713</td><td> 271</td><td>25.2</td><td>28038</td><td>1367.7</td><td>604362</td><td>43901</td><td>43921</td><td>43967</td><td>...</td><td>7171646</td><td>14.0</td><td>39.1</td><td>59282</td><td>0.24</td><td>0.09</td><td>0.12</td><td>0.24</td><td>0.12</td><td>0.18</td></tr>\n",
       "\t<tr><th scope=row>5</th><td>Arkansas</td><td>23814</td><td> 287</td><td> 9.5</td><td> 4504</td><td> 790.2</td><td>338893</td><td>43901</td><td>    0</td><td>    0</td><td>...</td><td>3013825</td><td>17.2</td><td>43.5</td><td>32336</td><td>0.25</td><td>0.09</td><td>0.12</td><td>0.25</td><td>0.13</td><td>0.17</td></tr>\n",
       "</tbody>\n",
       "</table>\n"
      ],
      "text/latex": [
       "A data.frame: 5 × 25\n",
       "\\begin{tabular}{r|lllllllllllllllllllll}\n",
       "  & State & Total.Cases & Total.Death & Death\\_100k & CasesInLast7Days & RatePer100000 & totalTestResults & State.of.emergency & Stay.at.home/.shelter.in.place & End/relax.stay.at.home/shelter.in.place & ... & Population.2018 & Percent.living.under.the.federal.poverty.line.(2018) & Percent.at.risk.for.serious.illness.due.to.COVID & All-cause.deaths.2018 & Children.0-18 & Adults.19-25 & Adults.26-34 & Adults.35-54 & Adults.55-64 & 65+\\\\\n",
       "  & <chr> & <dbl> & <dbl> & <dbl> & <dbl> & <dbl> & <dbl> & <dbl> & <dbl> & <dbl> & ... & <dbl> & <dbl> & <dbl> & <dbl> & <dbl> & <dbl> & <dbl> & <dbl> & <dbl> & <dbl>\\\\\n",
       "\\hline\n",
       "\t1 & Alabama  & 44909 & 1009 & 20.6 &  9804 &  918.8 & 449886 & 43903 & 43925 & 43951 & ... & 4887871 & 16.8 & 43.1 & 54352 & 0.24 & 0.09 & 0.12 & 0.25 & 0.14 & 0.17\\\\\n",
       "\t2 & Alaska   &  1138 &   16 &  2.2 &   284 &  154.3 & 122732 & 43901 & 43918 & 43945 & ... &  737438 & 10.9 & 32.8 &  4453 & 0.27 & 0.09 & 0.13 & 0.26 & 0.13 & 0.12\\\\\n",
       "\t3 & Arizona  & 83376 & 1538 & 25.2 & 28038 & 1367.7 & 604362 & 43901 & 43921 & 43967 & ... & 7171646 & 14.0 & 39.1 & 59282 & 0.24 & 0.09 & 0.12 & 0.24 & 0.12 & 0.18\\\\\n",
       "\t4 & arizona  & 14713 &  271 & 25.2 & 28038 & 1367.7 & 604362 & 43901 & 43921 & 43967 & ... & 7171646 & 14.0 & 39.1 & 59282 & 0.24 & 0.09 & 0.12 & 0.24 & 0.12 & 0.18\\\\\n",
       "\t5 & Arkansas & 23814 &  287 &  9.5 &  4504 &  790.2 & 338893 & 43901 &     0 &     0 & ... & 3013825 & 17.2 & 43.5 & 32336 & 0.25 & 0.09 & 0.12 & 0.25 & 0.13 & 0.17\\\\\n",
       "\\end{tabular}\n"
      ],
      "text/markdown": [
       "\n",
       "A data.frame: 5 × 25\n",
       "\n",
       "| <!--/--> | State &lt;chr&gt; | Total.Cases &lt;dbl&gt; | Total.Death &lt;dbl&gt; | Death_100k &lt;dbl&gt; | CasesInLast7Days &lt;dbl&gt; | RatePer100000 &lt;dbl&gt; | totalTestResults &lt;dbl&gt; | State.of.emergency &lt;dbl&gt; | Stay.at.home/.shelter.in.place &lt;dbl&gt; | End/relax.stay.at.home/shelter.in.place &lt;dbl&gt; | ... ... | Population.2018 &lt;dbl&gt; | Percent.living.under.the.federal.poverty.line.(2018) &lt;dbl&gt; | Percent.at.risk.for.serious.illness.due.to.COVID &lt;dbl&gt; | All-cause.deaths.2018 &lt;dbl&gt; | Children.0-18 &lt;dbl&gt; | Adults.19-25 &lt;dbl&gt; | Adults.26-34 &lt;dbl&gt; | Adults.35-54 &lt;dbl&gt; | Adults.55-64 &lt;dbl&gt; | 65+ &lt;dbl&gt; |\n",
       "|---|---|---|---|---|---|---|---|---|---|---|---|---|---|---|---|---|---|---|---|---|---|\n",
       "| 1 | Alabama  | 44909 | 1009 | 20.6 |  9804 |  918.8 | 449886 | 43903 | 43925 | 43951 | ... | 4887871 | 16.8 | 43.1 | 54352 | 0.24 | 0.09 | 0.12 | 0.25 | 0.14 | 0.17 |\n",
       "| 2 | Alaska   |  1138 |   16 |  2.2 |   284 |  154.3 | 122732 | 43901 | 43918 | 43945 | ... |  737438 | 10.9 | 32.8 |  4453 | 0.27 | 0.09 | 0.13 | 0.26 | 0.13 | 0.12 |\n",
       "| 3 | Arizona  | 83376 | 1538 | 25.2 | 28038 | 1367.7 | 604362 | 43901 | 43921 | 43967 | ... | 7171646 | 14.0 | 39.1 | 59282 | 0.24 | 0.09 | 0.12 | 0.24 | 0.12 | 0.18 |\n",
       "| 4 | arizona  | 14713 |  271 | 25.2 | 28038 | 1367.7 | 604362 | 43901 | 43921 | 43967 | ... | 7171646 | 14.0 | 39.1 | 59282 | 0.24 | 0.09 | 0.12 | 0.24 | 0.12 | 0.18 |\n",
       "| 5 | Arkansas | 23814 |  287 |  9.5 |  4504 |  790.2 | 338893 | 43901 |     0 |     0 | ... | 3013825 | 17.2 | 43.5 | 32336 | 0.25 | 0.09 | 0.12 | 0.25 | 0.13 | 0.17 |\n",
       "\n"
      ],
      "text/plain": [
       "  State    Total.Cases Total.Death Death_100k CasesInLast7Days RatePer100000\n",
       "1 Alabama  44909       1009        20.6        9804             918.8       \n",
       "2 Alaska    1138         16         2.2         284             154.3       \n",
       "3 Arizona  83376       1538        25.2       28038            1367.7       \n",
       "4 arizona  14713        271        25.2       28038            1367.7       \n",
       "5 Arkansas 23814        287         9.5        4504             790.2       \n",
       "  totalTestResults State.of.emergency Stay.at.home/.shelter.in.place\n",
       "1 449886           43903              43925                         \n",
       "2 122732           43901              43918                         \n",
       "3 604362           43901              43921                         \n",
       "4 604362           43901              43921                         \n",
       "5 338893           43901                  0                         \n",
       "  End/relax.stay.at.home/shelter.in.place ... Population.2018\n",
       "1 43951                                   ... 4887871        \n",
       "2 43945                                   ...  737438        \n",
       "3 43967                                   ... 7171646        \n",
       "4 43967                                   ... 7171646        \n",
       "5     0                                   ... 3013825        \n",
       "  Percent.living.under.the.federal.poverty.line.(2018)\n",
       "1 16.8                                                \n",
       "2 10.9                                                \n",
       "3 14.0                                                \n",
       "4 14.0                                                \n",
       "5 17.2                                                \n",
       "  Percent.at.risk.for.serious.illness.due.to.COVID All-cause.deaths.2018\n",
       "1 43.1                                             54352                \n",
       "2 32.8                                              4453                \n",
       "3 39.1                                             59282                \n",
       "4 39.1                                             59282                \n",
       "5 43.5                                             32336                \n",
       "  Children.0-18 Adults.19-25 Adults.26-34 Adults.35-54 Adults.55-64 65+ \n",
       "1 0.24          0.09         0.12         0.25         0.14         0.17\n",
       "2 0.27          0.09         0.13         0.26         0.13         0.12\n",
       "3 0.24          0.09         0.12         0.24         0.12         0.18\n",
       "4 0.24          0.09         0.12         0.24         0.12         0.18\n",
       "5 0.25          0.09         0.12         0.25         0.13         0.17"
      ]
     },
     "metadata": {},
     "output_type": "display_data"
    }
   ],
   "source": [
    "# Load the data from the Excel spreadsheet; the main columnar data is on sheet 2 of the spreadsheet.c\n",
    "cdata = read.xlsx(\"covid-19_dist0720 .xlsx\", sheet=2)\n",
    "summary(cdata)\n",
    "head(cdata, 5)"
   ]
  },
  {
   "cell_type": "markdown",
   "metadata": {
    "colab_type": "text",
    "id": "1EOYqWHv-NqQ"
   },
   "source": [
    "Table 1. The first five rows in the dataset"
   ]
  },
  {
   "cell_type": "markdown",
   "metadata": {
    "colab_type": "text",
    "id": "5F7t99zY7ShJ"
   },
   "source": [
    "The summary table and head function highlights six interesting items about this dataset:\n",
    "\n",
    "1. There are a total of 52 rows representing regions in the USA. 24 columnns in the table describe aspects and characteristics of COVID-19 in each region.\n",
    "2. Some columns that represent government actions such as \"Mandate face.mask...\" have values of 0 instead of dates. We assume 0 must mean that those states did not implement mandates in their cities and thus have no date.\n",
    "3. There are several NAs or missing values present in the four columns.\n",
    "4. Of the 52 regions, Arizona is repeated twice: once as \"Arizona\" and a second time as \"arizona\"\n",
    "5. Of the 52 regions, all are states except for the District of Columbia\n",
    "\n",
    "To prepare the data for modeling, items 3 and 5 are addressed in this section."
   ]
  },
  {
   "cell_type": "markdown",
   "metadata": {
    "colab_type": "text",
    "id": "9zbW_-EB7mqx"
   },
   "source": [
    "### Data Cleaning"
   ]
  },
  {
   "cell_type": "markdown",
   "metadata": {
    "colab_type": "text",
    "id": "7_FSyWhu5z_t"
   },
   "source": [
    "#### Missing Values\n",
    "\n",
    "NA values observed in *totalTestResults*, *Children.0-18*, *Adults.26-34*, and *Adults.55-64* are reviewed in this section.  From the dataset, the value for *Children.0-18* is missing for Kentucky whereas the other three values are missing for Ohio. The missing values can be retrieved through the sources provided for this dataset [5,6]. \n",
    "\n",
    "The following values will be replace the missing values in the dataset.\n",
    "\n",
    "Kentucky = 395,647 for *totalTestReslts*\n",
    "\n",
    "Ohio = 23%, 12%, and 14% for *Children.0-18*, *Adults.26-34*, and *Adults.55-64* respec"
   ]
  },
  {
   "cell_type": "code",
   "execution_count": 7,
   "metadata": {
    "colab": {
     "base_uri": "https://localhost:8080/",
     "height": 68
    },
    "colab_type": "code",
    "collapsed": false,
    "id": "EJN5V9zZ5z_t",
    "outputId": "80c8bc61-8630-4c57-9c6e-aff5678739ff"
   },
   "outputs": [
    {
     "data": {
      "text/plain": [
       "\n",
       "FALSE \n",
       " 1300 "
      ]
     },
     "metadata": {},
     "output_type": "display_data"
    }
   ],
   "source": [
    "# Assign values to the missing values\n",
    "cdata[cdata$State == 'Kentucky', c('totalTestResults')] = 395647\n",
    "cdata[cdata$State == 'Ohio', c('Children.0-18')] = 0.23\n",
    "cdata[cdata$State == 'Ohio', c('Adults.26-34')] = 0.12\n",
    "cdata[cdata$State == 'Ohio', c('Adults.55-64')] = 0.14\n",
    "\n",
    "# Check for NA values\n",
    "table(is.na(cdata))"
   ]
  },
  {
   "cell_type": "markdown",
   "metadata": {
    "colab_type": "text",
    "id": "qOryfdgc5z_x"
   },
   "source": [
    "#### Treating Anomalous Data\n",
    "\n",
    "After studying the dataset for Arizona and arizona, it was concluded that each was incomplete. When the rows for Arizona and arizona are compared, they only differ in two columns: Total.Cases and Total.Death. Cross validating the Total.Cases and Total.Deaths values with those from John Hopkins Univeristy, it was discovered that the sum of the Total.Cases as well as the sum of Total.Death between Arizona and arizona represented the true Total.Cases and Total.Deaths in Arizona [7]. As a result, Arizona and arizona are combined between values within Total.Cases and Total.Deaths - the other columns were left as is."
   ]
  },
  {
   "cell_type": "code",
   "execution_count": 8,
   "metadata": {
    "colab": {},
    "colab_type": "code",
    "collapsed": true,
    "id": "e1Btut9M5z_y"
   },
   "outputs": [],
   "source": [
    "# Code to merge Arizona.\n",
    "ArizonaTotalCases <- cdata[cdata$State == 'arizona', c(\"Total_Cases\")] + cdata[cdata$State == 'Arizona', c(\"Total_Cases\")]\n",
    "ArizonaTotalDeath <- cdata[cdata$State == 'arizona', c(\"Total_Death\")] + cdata[cdata$State == 'Arizona', c(\"Total_Death\")]\n",
    "cdata$Total_Cases[cdata$State=='Arizona'] <- ArizonaTotalCases\n",
    "cdata$Total_Death[cdata$State=='Arizona'] <- ArizonaTotalDeath"
   ]
  },
  {
   "cell_type": "markdown",
   "metadata": {
    "colab_type": "text",
    "id": "V6DWxdAQ5z_2"
   },
   "source": [
    "The other anomalous value is The District of Columbia (DC).  DC is not a state but the captital of the United States. When the population of density of DC is compared to other states it is actually an order of magnitude larger, as shown in Table 2. Given this study is focused on states and that DC is such huge outlier in population density, we made the conscious decision to exclude it from our analysis.  "
   ]
  },
  {
   "cell_type": "code",
   "execution_count": 9,
   "metadata": {
    "colab": {
     "base_uri": "https://localhost:8080/",
     "height": 204
    },
    "colab_type": "code",
    "collapsed": false,
    "id": "10wO0i9Q5z_3",
    "outputId": "3cb92286-b4d5-4403-966b-b65076fdb58d"
   },
   "outputs": [
    {
     "data": {
      "text/html": [
       "<table>\n",
       "<caption>A data.frame: 6 × 2</caption>\n",
       "<thead>\n",
       "\t<tr><th></th><th scope=col>State</th><th scope=col>Population.density.per.square.miles</th></tr>\n",
       "\t<tr><th></th><th scope=col>&lt;chr&gt;</th><th scope=col>&lt;dbl&gt;</th></tr>\n",
       "</thead>\n",
       "<tbody>\n",
       "\t<tr><th scope=row>10</th><td>District of Columbia</td><td>11496.81</td></tr>\n",
       "\t<tr><th scope=row>32</th><td>New Jersey          </td><td> 1021.27</td></tr>\n",
       "\t<tr><th scope=row>41</th><td>Rhode Island        </td><td>  684.35</td></tr>\n",
       "\t<tr><th scope=row>23</th><td>Massachusetts       </td><td>  653.98</td></tr>\n",
       "\t<tr><th scope=row>8</th><td>Connecticut         </td><td>  644.54</td></tr>\n",
       "\t<tr><th scope=row>22</th><td>Maryland            </td><td>  487.08</td></tr>\n",
       "</tbody>\n",
       "</table>\n"
      ],
      "text/latex": [
       "A data.frame: 6 × 2\n",
       "\\begin{tabular}{r|ll}\n",
       "  & State & Population.density.per.square.miles\\\\\n",
       "  & <chr> & <dbl>\\\\\n",
       "\\hline\n",
       "\t10 & District of Columbia & 11496.81\\\\\n",
       "\t32 & New Jersey           &  1021.27\\\\\n",
       "\t41 & Rhode Island         &   684.35\\\\\n",
       "\t23 & Massachusetts        &   653.98\\\\\n",
       "\t8 & Connecticut          &   644.54\\\\\n",
       "\t22 & Maryland             &   487.08\\\\\n",
       "\\end{tabular}\n"
      ],
      "text/markdown": [
       "\n",
       "A data.frame: 6 × 2\n",
       "\n",
       "| <!--/--> | State &lt;chr&gt; | Population.density.per.square.miles &lt;dbl&gt; |\n",
       "|---|---|---|\n",
       "| 10 | District of Columbia | 11496.81 |\n",
       "| 32 | New Jersey           |  1021.27 |\n",
       "| 41 | Rhode Island         |   684.35 |\n",
       "| 23 | Massachusetts        |   653.98 |\n",
       "| 8 | Connecticut          |   644.54 |\n",
       "| 22 | Maryland             |   487.08 |\n",
       "\n"
      ],
      "text/plain": [
       "   State                Population.density.per.square.miles\n",
       "10 District of Columbia 11496.81                           \n",
       "32 New Jersey            1021.27                           \n",
       "41 Rhode Island           684.35                           \n",
       "23 Massachusetts          653.98                           \n",
       "8  Connecticut            644.54                           \n",
       "22 Maryland               487.08                           "
      ]
     },
     "metadata": {},
     "output_type": "display_data"
    }
   ],
   "source": [
    "head(cdata[rev(order(cdata$Population.density.per.square.miles)),] %>% select(1, 15))"
   ]
  },
  {
   "cell_type": "markdown",
   "metadata": {
    "colab_type": "text",
    "id": "55-z1V6N-Vja"
   },
   "source": [
    "Table 2.  Population density of District of Columbia compared to the top 5 most dense states."
   ]
  },
  {
   "cell_type": "markdown",
   "metadata": {
    "colab_type": "text",
    "id": "5Vsbru0O-ftj"
   },
   "source": [
    "To complete the treatment of anomolous values:\n",
    "\n",
    "\n",
    "* The duplicate arizona is removed from the dataset\n",
    "* The District of Columbia is removed from the dataset\n",
    "\n",
    "\n"
   ]
  },
  {
   "cell_type": "code",
   "execution_count": 10,
   "metadata": {
    "colab": {},
    "colab_type": "code",
    "collapsed": true,
    "id": "-8MktGrw5z_8"
   },
   "outputs": [],
   "source": [
    "cdata <- cdata[!(cdata$State %in% c('arizona', 'District of Columbia')),]"
   ]
  },
  {
   "cell_type": "markdown",
   "metadata": {
    "colab_type": "text",
    "id": "4oPaEvVS50AA"
   },
   "source": [
    "At this point we are left with the data of $50$ states of the Union.  The data is cleaned sufficiently for modeling."
   ]
  },
  {
   "cell_type": "markdown",
   "metadata": {
    "colab_type": "text",
    "id": "ofz0tBqy50AB"
   },
   "source": [
    "## Data Exploration of Potential Independent Variables"
   ]
  },
  {
   "cell_type": "markdown",
   "metadata": {
    "colab_type": "text",
    "id": "s43l11n450AB"
   },
   "source": [
    "The response variable **_Total Cases_** and predictor **_Percent Living Under Poverty Line_** is proposed to address the research question of the impact of poverty as it potentially relates infections in the United States.  \n",
    "Another covariate is also considered **_Population Density_**. We also consider the **_Population Density_** because denser areas typically have a higher percentage of people linving under the poverty line [8].  Additionally, one would expect denser areas would also lead to a higher potential for infection, thus the six-feet apart limitations we have today.\n",
    "A few log transformations are also introduced. "
   ]
  },
  {
   "cell_type": "code",
   "execution_count": 35,
   "metadata": {
    "colab": {},
    "colab_type": "code",
    "collapsed": false,
    "id": "lW3XT6rZ7_9v"
   },
   "outputs": [],
   "source": [
    "# Simplify column names for our variables\n",
    "fraction_cases = cdata$Total.Cases/cdata$Population.2018\n",
    "fraction_poverty = cdata$`Percent.living.under.the.federal.poverty.line.(2018)`/100\n",
    "population = cdata$Population.2018\n",
    "pop_density = cdata$Population.density.per.square.miles"
   ]
  },
  {
   "cell_type": "markdown",
   "metadata": {
    "colab_type": "text",
    "id": "Ge5uX5CUHoX4"
   },
   "source": [
    "#### Sample Distributions\n",
    "\n",
    "The aforementioned variables are plotted in a histogram, including a few transformations or interactions, to get an initial indication of their distributions. "
   ]
  },
  {
   "cell_type": "code",
   "execution_count": 12,
   "metadata": {
    "colab": {
     "base_uri": "https://localhost:8080/",
     "height": 1000
    },
    "colab_type": "code",
    "collapsed": false,
    "id": "7hARepeA50AC",
    "outputId": "e9315fd2-94d5-4956-87e2-15663d7701a3"
   },
   "outputs": [
    {
     "data": {
      "image/png": "[encoded data removed]",
      "text/plain": [
       "Plot with title \"Log(Population Density)\""
      ]
     },
     "metadata": {
      "image/png": {
       "height": 1200,
       "width": 1320
      },
      "text/plain": {
       "height": 1200,
       "width": 1320
      }
     },
     "output_type": "display_data"
    }
   ],
   "source": [
    "par(mfrow=c(3,2))\n",
    "options(repr.plot.width=22, repr.plot.height=20)\n",
    "hist(fraction_cases, breaks=10, main = \"Fraction of Total Cases\", xlab = \"Fraction of Total Cases\",col=\"peachpuff4\",ylab=\"Frequency\")\n",
    "hist(log(fraction_cases), breaks=10, main = \"Log(Fraction of Total Cases)\", xlab = \"log(Fraction of Total Cases)\",col=\"peachpuff4\",ylab=\"Frequency\")\n",
    "hist(fraction_poverty, breaks=10, main = \"Fraction Under Federal Poverty Line\", xlab = \"Fraction Under Federal Poverty Line\",ylab=\"Frequency\",col=\"lemonchiffon2\")\n",
    "hist(log(fraction_poverty), breaks=10, main = \"Log(Fraction Under Federal Poverty Line)\", xlab = \"Log(Fraction Under Federal Poverty Line)\",col=\"lemonchiffon2\")\n",
    "hist(pop_density, breaks=10, main = \"Population Density\", xlab = \"Population Density\",ylab=\"Frequency\",col=\"lemonchiffon2\")\n",
    "hist(log(pop_density), breaks=10, main = \"Log(Population Density)\", xlab = \"Log(Population Density)\",col=\"lemonchiffon2\")"
   ]
  },
  {
   "cell_type": "markdown",
   "metadata": {
    "colab_type": "text",
    "id": "MIiKoEg0EVA_"
   },
   "source": [
    "Figure 2. Histogram of our main variables, their log transformations, and the interaction term."
   ]
  },
  {
   "cell_type": "markdown",
   "metadata": {
    "colab_type": "text",
    "id": "I2DhNszY50AU"
   },
   "source": [
    "We can make several observations based on the sample distributions:\n",
    "*   From Figure 1 and Figure 2, the *fraction_poverty* is normally distributed around 12-14%, which is the national average. \n",
    "*   On the other hand, *fraction_cases* and *population density* are positively skewed.  The log transforms shifts the distributions closer to normal."
   ]
  },
  {
   "cell_type": "markdown",
   "metadata": {
    "colab_type": "text",
    "id": "OI19XTIvHvKO"
   },
   "source": [
    "#### Bivariate Analysis\n",
    "\n",
    "Next, the relationship between each variable is considered. A matrix scatter plot is introduced of each variable plotted against each other pair-wise. "
   ]
  },
  {
   "cell_type": "code",
   "execution_count": 13,
   "metadata": {
    "colab": {
     "base_uri": "https://localhost:8080/",
     "height": 917
    },
    "colab_type": "code",
    "collapsed": false,
    "id": "Hv2whc0bCe3K",
    "outputId": "f98c7236-13dd-4196-b107-0790bf769e3a"
   },
   "outputs": [
    {
     "data": {
      "image/png": "[encoded data removed]",
      "text/plain": [
       "plot without title"
      ]
     },
     "metadata": {
      "image/png": {
       "height": 900,
       "width": 900
      },
      "text/plain": {
       "height": 900,
       "width": 900
      }
     },
     "output_type": "display_data"
    }
   ],
   "source": [
    "par(mfrow=c(1,2))\n",
    "options(repr.plot.width=15, repr.plot.height=15,repr.plot.pointsize=15)\n",
    "main_variables = data.frame(fraction_cases, fraction_poverty, pop_density)\n",
    "scatterplotMatrix(main_variables,cex.labels=2.0)"
   ]
  },
  {
   "cell_type": "markdown",
   "metadata": {
    "colab_type": "text",
    "id": "gfr4GYJadJKP"
   },
   "source": [
    "Figure 3.  Pairwise plot of our variables"
   ]
  },
  {
   "cell_type": "markdown",
   "metadata": {
    "colab_type": "text",
    "id": "zRkK4yFldu79"
   },
   "source": [
    "From Figure 3, the pairs plot suggest:\n",
    "- There appears to be no clear linear relationship between all three variables"
   ]
  },
  {
   "cell_type": "code",
   "execution_count": 14,
   "metadata": {
    "colab": {
     "base_uri": "https://localhost:8080/",
     "height": 917
    },
    "colab_type": "code",
    "collapsed": false,
    "id": "5JFbGf_0c-Qn",
    "outputId": "dd3e7f5d-1608-462c-d3b0-d883b70b4f62"
   },
   "outputs": [
    {
     "data": {
      "image/png": "[encoded data removed]",
      "text/plain": [
       "plot without title"
      ]
     },
     "metadata": {
      "image/png": {
       "height": 900,
       "width": 900
      },
      "text/plain": {
       "height": 900,
       "width": 900
      }
     },
     "output_type": "display_data"
    }
   ],
   "source": [
    "log_main_variables = data.frame(log(fraction_cases), log(fraction_poverty), log(pop_density))\n",
    "scatterplotMatrix(log_main_variables,cex.labels=2.0)"
   ]
  },
  {
   "cell_type": "markdown",
   "metadata": {
    "colab_type": "text",
    "id": "KviHcEbGdcac"
   },
   "source": [
    "Figure 4. Pairwise plot of the transformation variables"
   ]
  },
  {
   "cell_type": "markdown",
   "metadata": {
    "colab_type": "text",
    "id": "KAGWdEQPItWd"
   },
   "source": [
    "From Figure 4, the pairs plot suggest:\n",
    "- In the logarithmic form leads to a more linear relationship between *population density* and *fraction_cases*."
   ]
  },
  {
   "cell_type": "markdown",
   "metadata": {
    "colab_type": "text",
    "id": "cDuongrEofYE"
   },
   "source": [
    "## Central Limit Theorem (CLT) Assumptions\n",
    "\n",
    "In the models, we will invoke the **Central Limit Theorem** to justify our assumptions, thus, we will state its (CLT) assumptions.\n",
    "\n",
    "1.The data must follow the randomization condition. It must be sampled randomly\n",
    "    - Given the nature of the infection transmission and the chaotic movement of people it is arguable that the disease spread would tend to be random.\n",
    "\n",
    "2.Samples should be independent of each other. One sample should not influence the other samples\n",
    "    - Due to the geographic distances and diversities between states, influence of transient population passing through could be argued to be secondary in importance to the permanent resident population in their effect upon variables.\n",
    "\n"
   ]
  },
  {
   "cell_type": "code",
   "execution_count": 16,
   "metadata": {
    "colab": {},
    "colab_type": "code",
    "collapsed": false,
    "id": "OV0Mjq5cofYF",
    "outputId": "c3aee288-f010-49fb-e883-69977f3c2c57"
   },
   "outputs": [
    {
     "data": {
      "text/html": [
       "<span style=white-space:pre-wrap>'Maximum % of population:  2.0409'</span>"
      ],
      "text/latex": [
       "'Maximum \\% of population:  2.0409'"
      ],
      "text/markdown": [
       "<span style=white-space:pre-wrap>'Maximum % of population:  2.0409'</span>"
      ],
      "text/plain": [
       "[1] \"Maximum % of population:  2.0409\""
      ]
     },
     "metadata": {},
     "output_type": "display_data"
    },
    {
     "data": {
      "text/html": [
       "<span style=white-space:pre-wrap>'Minimum # of cases:  939'</span>"
      ],
      "text/latex": [
       "'Minimum \\# of cases:  939'"
      ],
      "text/markdown": [
       "<span style=white-space:pre-wrap>'Minimum # of cases:  939'</span>"
      ],
      "text/plain": [
       "[1] \"Minimum # of cases:  939\""
      ]
     },
     "metadata": {},
     "output_type": "display_data"
    }
   ],
   "source": [
    "a = ((cdata$Total.Cases)/(cdata$Population.2018)) * 100\n",
    "paste(\"Maximum % of population: \",format(round(max(a), 4), nsmall = 4))\n",
    "paste(\"Minimum # of cases: \",min((cdata$Total.Cases)))"
   ]
  },
  {
   "cell_type": "markdown",
   "metadata": {
    "colab_type": "text",
    "id": "pnNL0eDoofYI"
   },
   "source": [
    "3.Sample size should be not more than 10% of the population when sampling is done without replacement\n",
    "    - Sample size in every state is at most 2% of the population\n",
    "\n",
    "4.The sample size should be sufficiently large. Now, how we will figure out how large this size should be? Well, it depends on the population. When the population is skewed or asymmetric, the sample size should be large. If the population is symmetric, then we can draw small samples as well\n",
    "    - The minimum number of cases is 939 which is suffciently large to produce a normal distribution from a normal population."
   ]
  },
  {
   "cell_type": "markdown",
   "metadata": {
    "colab_type": "text",
    "id": "FWbnJ0iw50Ae"
   },
   "source": [
    "## Model Creation ##\n",
    "\n",
    "In this section we develope three models for this study. We will consider an $\\alpha \\le 0.05$ as our significant value.\n",
    "\n",
    "### Model 1 (Base Model) \n",
    "\n",
    "In this first model, we start with **fraction_cases** as a linear function of the **fraction_poverty** because we believe **fraction_poverty** is a strong indicator of poverty."
   ]
  },
  {
   "cell_type": "markdown",
   "metadata": {
    "colab_type": "text",
    "id": "9CpWrMiO50Af"
   },
   "source": [
    " $$\\hat{y} = \\hat{\\beta}_0 +  \\hat{\\beta}_1x_{1} + \\epsilon$$"
   ]
  },
  {
   "cell_type": "code",
   "execution_count": 17,
   "metadata": {
    "colab": {
     "base_uri": "https://localhost:8080/",
     "height": 187
    },
    "colab_type": "code",
    "collapsed": false,
    "id": "ONCdhMmXxfJ2",
    "outputId": "252b2e59-3b66-4263-e5ca-fd3d51172517"
   },
   "outputs": [
    {
     "data": {
      "text/plain": [
       "\n",
       "t test of coefficients:\n",
       "\n",
       "                 Estimate Std. Error t value Pr(>|t|)  \n",
       "(Intercept)       0.00705    0.00300    2.35    0.023 *\n",
       "fraction_poverty  0.00475    0.02171    0.22    0.828  \n",
       "---\n",
       "Signif. codes:  0 '***' 0.001 '**' 0.01 '*' 0.05 '.' 0.1 ' ' 1\n"
      ]
     },
     "metadata": {},
     "output_type": "display_data"
    },
    {
     "data": {
      "text/html": [
       "<span style=white-space:pre-wrap>'Multiple R-squared:  9e-04'</span>"
      ],
      "text/latex": [
       "'Multiple R-squared:  9e-04'"
      ],
      "text/markdown": [
       "<span style=white-space:pre-wrap>'Multiple R-squared:  9e-04'</span>"
      ],
      "text/plain": [
       "[1] \"Multiple R-squared:  9e-04\""
      ]
     },
     "metadata": {},
     "output_type": "display_data"
    },
    {
     "data": {
      "text/html": [
       "<span style=white-space:pre-wrap>'Adjust R-squared:  -0.0199'</span>"
      ],
      "text/latex": [
       "'Adjust R-squared:  -0.0199'"
      ],
      "text/markdown": [
       "<span style=white-space:pre-wrap>'Adjust R-squared:  -0.0199'</span>"
      ],
      "text/plain": [
       "[1] \"Adjust R-squared:  -0.0199\""
      ]
     },
     "metadata": {},
     "output_type": "display_data"
    }
   ],
   "source": [
    "# Build model 1\n",
    "model1 = lm(fraction_cases ~ fraction_poverty, data=cdata)\n",
    "# Heterocadastic Robust Standard errors using White Standard errors\n",
    "coeftest(model1, vcov = vcovHC(model1, \"HC0\")) \n",
    "# Separately called R-squared and Adjusted R-squared\n",
    "paste(\"Multiple R-squared: \",format(round(summary(model1)$r.squared, 4), nsmall = 4))\n",
    "paste(\"Adjust R-squared: \",format(round(summary(model1)$adj.r.squared, 4), nsmall = 4))"
   ]
  },
  {
   "cell_type": "markdown",
   "metadata": {
    "colab_type": "text",
    "id": "wt2opflGLmaR"
   },
   "source": [
    "The fitted equation with the estimator is given:\n",
    "$$\\hat{y} = 0065 + 0.009x_{1}$$"
   ]
  },
  {
   "cell_type": "markdown",
   "metadata": {
    "colab_type": "text",
    "id": "ocLDN2mz50Ai"
   },
   "source": [
    "In comparison to our specified  𝛼<0.05 , fraction_poverty is not statistically significant. In addition, Model 1 hardly explains any variability in the fraction_cases."
   ]
  },
  {
   "cell_type": "markdown",
   "metadata": {
    "colab_type": "text",
    "id": "BEetYaoI50Aj"
   },
   "source": [
    "### Model 2 (Improved Model)  \n",
    " \n",
    "\n",
    "Some of the variables considered in the Model Building Process may advance the model's goals.  \n",
    "\n",
    "\n",
    "First, we consider the addition of the **_Population Density_** independent variable $x_2$.  We believe *Population Density*  could be another representation of poverty as those that live below the federal poverty line are more likely to live in a condensed areas [8].\n",
    "\n"
   ]
  },
  {
   "cell_type": "markdown",
   "metadata": {
    "colab_type": "text",
    "id": "N2Ii0svbQc5D"
   },
   "source": [
    "$$\\hat{y} = \\beta_0 +  \\hat{\\beta}_1x_{1} + \\hat{\\beta}_2x_{2} +  \\epsilon$$"
   ]
  },
  {
   "cell_type": "code",
   "execution_count": 18,
   "metadata": {
    "collapsed": false
   },
   "outputs": [
    {
     "data": {
      "image/png": "[encoded data removed]",
      "text/plain": [
       "Plot with title \"\""
      ]
     },
     "metadata": {
      "image/png": {
       "height": 900,
       "width": 900
      },
      "text/plain": {
       "height": 900,
       "width": 900
      }
     },
     "output_type": "display_data"
    }
   ],
   "source": [
    "model2 = lm(fraction_cases ~ fraction_poverty + Population.density.per.square.miles, data=cdata)\n",
    "\n",
    "par(mfrow=c(2,2))\n",
    "plot(model2)"
   ]
  },
  {
   "cell_type": "markdown",
   "metadata": {},
   "source": [
    "Figure 5.  Diagnostic Plots for Model 2"
   ]
  },
  {
   "cell_type": "markdown",
   "metadata": {},
   "source": [
    "**Residuals vs Fited:** Due to not as significant deviation from zero, the zero-conditional means is not violated. \n",
    "\n",
    "**Normal Q-Q:** Violation of normality of errors, generally normally distributed with some minor outliers and one huge outlier. Due to CLT sample might be normal, thought might not be big enough as we have 50 observations.\n",
    "\n",
    "**Scale-location:** Since line is not horizontal,points going further from the x-axis means they're further away from a zero residual, thus more variance, indication of heteroscedasticity. To address Heterocedasticity we will be using White/Robust Standard Errors.\n",
    "\n",
    "**Residuals vs leverage:** Identify points that are outliers and points that have influence. Or residuals have Cook's distances less than 0.5, thus none of the variables seem to have a significant  leverage or influence. "
   ]
  },
  {
   "cell_type": "markdown",
   "metadata": {
    "colab_type": "text",
    "id": "zWYTG2HrsTS6"
   },
   "source": [
    "Model Coefficients"
   ]
  },
  {
   "cell_type": "code",
   "execution_count": 19,
   "metadata": {
    "colab": {
     "base_uri": "https://localhost:8080/",
     "height": 255
    },
    "colab_type": "code",
    "collapsed": false,
    "id": "LHZEkVVt50A9",
    "outputId": "2487d659-68d8-4dab-9ea9-2fd4449d11b8"
   },
   "outputs": [
    {
     "data": {
      "text/plain": [
       "\n",
       "t test of coefficients:\n",
       "\n",
       "                                    Estimate Std. Error t value Pr(>|t|)    \n",
       "(Intercept)                         4.63e-04   2.26e-03    0.21    0.838    \n",
       "fraction_poverty                    3.43e-02   1.68e-02    2.04    0.047 *  \n",
       "Population.density.per.square.miles 1.64e-05   1.58e-06   10.34  1.1e-13 ***\n",
       "---\n",
       "Signif. codes:  0 '***' 0.001 '**' 0.01 '*' 0.05 '.' 0.1 ' ' 1\n"
      ]
     },
     "metadata": {},
     "output_type": "display_data"
    },
    {
     "data": {
      "text/html": [
       "<span style=white-space:pre-wrap>'Multiple R-squared (Final) Model2:  0.5440'</span>"
      ],
      "text/latex": [
       "'Multiple R-squared (Final) Model2:  0.5440'"
      ],
      "text/markdown": [
       "<span style=white-space:pre-wrap>'Multiple R-squared (Final) Model2:  0.5440'</span>"
      ],
      "text/plain": [
       "[1] \"Multiple R-squared (Final) Model2:  0.5440\""
      ]
     },
     "metadata": {},
     "output_type": "display_data"
    },
    {
     "data": {
      "text/html": [
       "<span style=white-space:pre-wrap>'Adjust R-squared (Final) Model2:  0.5246'</span>"
      ],
      "text/latex": [
       "'Adjust R-squared (Final) Model2:  0.5246'"
      ],
      "text/markdown": [
       "<span style=white-space:pre-wrap>'Adjust R-squared (Final) Model2:  0.5246'</span>"
      ],
      "text/plain": [
       "[1] \"Adjust R-squared (Final) Model2:  0.5246\""
      ]
     },
     "metadata": {},
     "output_type": "display_data"
    },
    {
     "data": {
      "text/html": [
       "<span style=white-space:pre-wrap>'Mean error term of Model2:  5.36680075380325e-20'</span>"
      ],
      "text/latex": [
       "'Mean error term of Model2:  5.36680075380325e-20'"
      ],
      "text/markdown": [
       "<span style=white-space:pre-wrap>'Mean error term of Model2:  5.36680075380325e-20'</span>"
      ],
      "text/plain": [
       "[1] \"Mean error term of Model2:  5.36680075380325e-20\""
      ]
     },
     "metadata": {},
     "output_type": "display_data"
    }
   ],
   "source": [
    "#Heterocadastic Robust Standard errors using White Standard errors\n",
    "coeftest(model2, vcov = vcovHC(model2, \"HC0\")) \n",
    "#Separately called R-squared and Adjusted R-squared\n",
    "\n",
    "paste(\"Multiple R-squared (Final) Model2: \",format(round(summary(model2)$r.squared, 4), nsmall = 4))\n",
    "paste(\"Adjust R-squared (Final) Model2: \",format(round(summary(model2)$adj.r.squared, 4), nsmall = 4))\n",
    "\n",
    "res <- residuals(model2) # residuals\n",
    "len_res <- length(res)\n",
    "sum_res <- sum(res)\n",
    "mean_error_term <- sum_res/len_res\n",
    "paste(\"Mean error term of Model2: \", mean_error_term)"
   ]
  },
  {
   "cell_type": "markdown",
   "metadata": {
    "colab_type": "text",
    "id": "RiFPDLZcteBq"
   },
   "source": [
    "The fitted equation with the estimator is given:\n",
    "\n",
    "$$\\hat{y} = -4.63 + 0.034x_1 + 0.000064x_2$$ "
   ]
  },
  {
   "cell_type": "markdown",
   "metadata": {
    "colab_type": "text",
    "id": "xXajbQir50BM"
   },
   "source": [
    "The $R^2$ for **_Model2_** had an of 0.5440 which explains 54% of the variation in the fraction of infections. Both coefficients are statiscally siginifcant with our $a$ value (<0.05). It appears the addition of population density increased the $R^2$."
   ]
  },
  {
   "cell_type": "markdown",
   "metadata": {
    "colab_type": "text",
    "id": "zpdh1gap50BM"
   },
   "source": [
    "### Model 3 (Inclusive Model)  "
   ]
  },
  {
   "cell_type": "markdown",
   "metadata": {
    "colab_type": "text",
    "id": "uveBmWHm50BN"
   },
   "source": [
    "In this model we are adding two more variables that relate to \"poverty\": **weekly_umemploy** and **days_business_closed** and applying log transformations.\n",
    "- **weekly_umemploy** represents **Weekly.unemployment.insurance.maximum.amount.(dollars)** from the data set. We believe that states that have higher dollar amount for this variable most likely have more people that are unemployed thus, live under the federal poverty line.\n",
    "- **days_business_closed** represents the difference between **Began.to.reopen.businesses.statewise** and **Closed.non-essential.businesses**. We believe that the longer a state had its businesses closed down, the longer its residents were unemployed, thus, living below the federal poverty line.\n",
    "\n",
    "Thus model 3 would have the form:\n",
    "$$log(Total Cases) = \\beta_0 + \\beta_1 \\cdot log(PoorPopulation) + \\beta_2 \\cdot log(Population Density) +\\beta_3 \\cdot log(Popluation) + \\beta_4 \\cdot log(weeklyUnemploy)+\\beta_5 \\cdot log(daysBusinessClosed)$$\n",
    "\n",
    "Next we calculate the added variables and build the model."
   ]
  },
  {
   "cell_type": "code",
   "execution_count": 20,
   "metadata": {
    "colab": {
     "base_uri": "https://localhost:8080/",
     "height": 51
    },
    "colab_type": "code",
    "collapsed": false,
    "id": "cN3_UB4m50BN",
    "outputId": "5f834ce4-1d6e-4242-e30e-9479aa7bb974"
   },
   "outputs": [
    {
     "data": {
      "text/html": [
       "<style>\n",
       ".list-inline {list-style: none; margin:0; padding: 0}\n",
       ".list-inline>li {display: inline-block}\n",
       ".list-inline>li:not(:last-child)::after {content: \"\\00b7\"; padding: 0 .5ex}\n",
       "</style>\n",
       "<ol class=list-inline><li>33</li><li>27</li><li>39</li><li>43955</li><li>50</li><li>36</li><li>58</li><li>45</li><li>43969</li><li>43952</li><li>43</li><li>37</li><li>69</li><li>54</li><li>50</li><li>35</li><li>46</li><li>39</li><li>37</li><li>53</li><li>55</li><li>63</li><li>30</li><li>24</li><li>43955</li><li>30</li><li>43969</li><li>49</li><li>44</li><li>58</li><li>52</li><li>54</li><li>39</li><li>43952</li><li>41</li><li>23</li><li>43966</li><li>78</li><li>40</li><li>19</li><li>0</li><li>30</li><li>31</li><li>43952</li><li>33</li><li>43980</li><li>41</li><li>41</li><li>47</li><li>43952</li></ol>\n"
      ],
      "text/latex": [
       "\\begin{enumerate*}\n",
       "\\item 33\n",
       "\\item 27\n",
       "\\item 39\n",
       "\\item 43955\n",
       "\\item 50\n",
       "\\item 36\n",
       "\\item 58\n",
       "\\item 45\n",
       "\\item 43969\n",
       "\\item 43952\n",
       "\\item 43\n",
       "\\item 37\n",
       "\\item 69\n",
       "\\item 54\n",
       "\\item 50\n",
       "\\item 35\n",
       "\\item 46\n",
       "\\item 39\n",
       "\\item 37\n",
       "\\item 53\n",
       "\\item 55\n",
       "\\item 63\n",
       "\\item 30\n",
       "\\item 24\n",
       "\\item 43955\n",
       "\\item 30\n",
       "\\item 43969\n",
       "\\item 49\n",
       "\\item 44\n",
       "\\item 58\n",
       "\\item 52\n",
       "\\item 54\n",
       "\\item 39\n",
       "\\item 43952\n",
       "\\item 41\n",
       "\\item 23\n",
       "\\item 43966\n",
       "\\item 78\n",
       "\\item 40\n",
       "\\item 19\n",
       "\\item 0\n",
       "\\item 30\n",
       "\\item 31\n",
       "\\item 43952\n",
       "\\item 33\n",
       "\\item 43980\n",
       "\\item 41\n",
       "\\item 41\n",
       "\\item 47\n",
       "\\item 43952\n",
       "\\end{enumerate*}\n"
      ],
      "text/markdown": [
       "1. 33\n",
       "2. 27\n",
       "3. 39\n",
       "4. 43955\n",
       "5. 50\n",
       "6. 36\n",
       "7. 58\n",
       "8. 45\n",
       "9. 43969\n",
       "10. 43952\n",
       "11. 43\n",
       "12. 37\n",
       "13. 69\n",
       "14. 54\n",
       "15. 50\n",
       "16. 35\n",
       "17. 46\n",
       "18. 39\n",
       "19. 37\n",
       "20. 53\n",
       "21. 55\n",
       "22. 63\n",
       "23. 30\n",
       "24. 24\n",
       "25. 43955\n",
       "26. 30\n",
       "27. 43969\n",
       "28. 49\n",
       "29. 44\n",
       "30. 58\n",
       "31. 52\n",
       "32. 54\n",
       "33. 39\n",
       "34. 43952\n",
       "35. 41\n",
       "36. 23\n",
       "37. 43966\n",
       "38. 78\n",
       "39. 40\n",
       "40. 19\n",
       "41. 0\n",
       "42. 30\n",
       "43. 31\n",
       "44. 43952\n",
       "45. 33\n",
       "46. 43980\n",
       "47. 41\n",
       "48. 41\n",
       "49. 47\n",
       "50. 43952\n",
       "\n",
       "\n"
      ],
      "text/plain": [
       " [1]    33    27    39 43955    50    36    58    45 43969 43952    43    37\n",
       "[13]    69    54    50    35    46    39    37    53    55    63    30    24\n",
       "[25] 43955    30 43969    49    44    58    52    54    39 43952    41    23\n",
       "[37] 43966    78    40    19     0    30    31 43952    33 43980    41    41\n",
       "[49]    47 43952"
      ]
     },
     "metadata": {},
     "output_type": "display_data"
    },
    {
     "data": {
      "text/html": [
       "<style>\n",
       ".list-inline {list-style: none; margin:0; padding: 0}\n",
       ".list-inline>li {display: inline-block}\n",
       ".list-inline>li:not(:last-child)::after {content: \"\\00b7\"; padding: 0 .5ex}\n",
       "</style>\n",
       "<ol class=list-inline><li>33</li><li>27</li><li>39</li><li>0</li><li>50</li><li>36</li><li>58</li><li>45</li><li>0</li><li>0</li><li>43</li><li>37</li><li>69</li><li>54</li><li>50</li><li>35</li><li>46</li><li>39</li><li>37</li><li>53</li><li>55</li><li>63</li><li>30</li><li>24</li><li>0</li><li>30</li><li>0</li><li>49</li><li>44</li><li>58</li><li>52</li><li>54</li><li>39</li><li>0</li><li>41</li><li>23</li><li>0</li><li>78</li><li>40</li><li>19</li><li>0</li><li>30</li><li>31</li><li>0</li><li>33</li><li>0</li><li>41</li><li>41</li><li>47</li><li>0</li></ol>\n"
      ],
      "text/latex": [
       "\\begin{enumerate*}\n",
       "\\item 33\n",
       "\\item 27\n",
       "\\item 39\n",
       "\\item 0\n",
       "\\item 50\n",
       "\\item 36\n",
       "\\item 58\n",
       "\\item 45\n",
       "\\item 0\n",
       "\\item 0\n",
       "\\item 43\n",
       "\\item 37\n",
       "\\item 69\n",
       "\\item 54\n",
       "\\item 50\n",
       "\\item 35\n",
       "\\item 46\n",
       "\\item 39\n",
       "\\item 37\n",
       "\\item 53\n",
       "\\item 55\n",
       "\\item 63\n",
       "\\item 30\n",
       "\\item 24\n",
       "\\item 0\n",
       "\\item 30\n",
       "\\item 0\n",
       "\\item 49\n",
       "\\item 44\n",
       "\\item 58\n",
       "\\item 52\n",
       "\\item 54\n",
       "\\item 39\n",
       "\\item 0\n",
       "\\item 41\n",
       "\\item 23\n",
       "\\item 0\n",
       "\\item 78\n",
       "\\item 40\n",
       "\\item 19\n",
       "\\item 0\n",
       "\\item 30\n",
       "\\item 31\n",
       "\\item 0\n",
       "\\item 33\n",
       "\\item 0\n",
       "\\item 41\n",
       "\\item 41\n",
       "\\item 47\n",
       "\\item 0\n",
       "\\end{enumerate*}\n"
      ],
      "text/markdown": [
       "1. 33\n",
       "2. 27\n",
       "3. 39\n",
       "4. 0\n",
       "5. 50\n",
       "6. 36\n",
       "7. 58\n",
       "8. 45\n",
       "9. 0\n",
       "10. 0\n",
       "11. 43\n",
       "12. 37\n",
       "13. 69\n",
       "14. 54\n",
       "15. 50\n",
       "16. 35\n",
       "17. 46\n",
       "18. 39\n",
       "19. 37\n",
       "20. 53\n",
       "21. 55\n",
       "22. 63\n",
       "23. 30\n",
       "24. 24\n",
       "25. 0\n",
       "26. 30\n",
       "27. 0\n",
       "28. 49\n",
       "29. 44\n",
       "30. 58\n",
       "31. 52\n",
       "32. 54\n",
       "33. 39\n",
       "34. 0\n",
       "35. 41\n",
       "36. 23\n",
       "37. 0\n",
       "38. 78\n",
       "39. 40\n",
       "40. 19\n",
       "41. 0\n",
       "42. 30\n",
       "43. 31\n",
       "44. 0\n",
       "45. 33\n",
       "46. 0\n",
       "47. 41\n",
       "48. 41\n",
       "49. 47\n",
       "50. 0\n",
       "\n",
       "\n"
      ],
      "text/plain": [
       " [1] 33 27 39  0 50 36 58 45  0  0 43 37 69 54 50 35 46 39 37 53 55 63 30 24  0\n",
       "[26] 30  0 49 44 58 52 54 39  0 41 23  0 78 40 19  0 30 31  0 33  0 41 41 47  0"
      ]
     },
     "metadata": {},
     "output_type": "display_data"
    }
   ],
   "source": [
    "#Adding two data points that relate to poverty\n",
    "weekly_unemploy = cdata$\"Weekly.unemployment.insurance.maximum.amount.(dollars)\"\n",
    "close_non_essbusiness = (cdata$\"Closed.non-essential.businesses\")\n",
    "business_reopen = (cdata$Began.to.reopen.businesses.statewide)\n",
    "days_business_closed = (business_reopen) - (close_non_essbusiness)\n",
    "days_business_closed\n",
    "#Due some states not encforcing a \"Closed non-essential businesses date, the difference had to be replaced with 0\n",
    "days_business_closed = ifelse(days_business_closed>100, 0,days_business_closed)\n",
    "days_business_closed\n",
    "#Log of days_business closed, not sure if we need it due to the \"outlier\" values being replaced with 0.\n",
    "ln_days_business_closed = log(days_business_closed)\n",
    "#ln_days_business_closed\" produced NA values\n",
    "#Replacing NA with\n",
    "ln_days_business_closed[is.infinite(ln_days_business_closed)] <- 0"
   ]
  },
  {
   "cell_type": "code",
   "execution_count": 21,
   "metadata": {
    "colab": {
     "base_uri": "https://localhost:8080/",
     "height": 917
    },
    "colab_type": "code",
    "collapsed": false,
    "id": "hOsSvbwZ50BR",
    "outputId": "14297d4b-338b-46c3-b6a2-6f99c8649d26"
   },
   "outputs": [
    {
     "data": {
      "text/plain": [
       "\n",
       "t test of coefficients:\n",
       "\n",
       "                                         Estimate Std. Error t value Pr(>|t|)\n",
       "(Intercept)                               -3.2045     1.5731   -2.04    0.048\n",
       "log(fraction_poverty)                      0.1877     0.4587    0.41    0.684\n",
       "log(Population.density.per.square.miles)   0.3122     0.0496    6.29  1.2e-07\n",
       "log(weekly_unemploy)                      -0.4478     0.2327   -1.92    0.061\n",
       "ln_days_business_closed                   -0.0509     0.0486   -1.05    0.301\n",
       "                                            \n",
       "(Intercept)                              *  \n",
       "log(fraction_poverty)                       \n",
       "log(Population.density.per.square.miles) ***\n",
       "log(weekly_unemploy)                     .  \n",
       "ln_days_business_closed                     \n",
       "---\n",
       "Signif. codes:  0 '***' 0.001 '**' 0.01 '*' 0.05 '.' 0.1 ' ' 1\n"
      ]
     },
     "metadata": {},
     "output_type": "display_data"
    },
    {
     "data": {
      "text/html": [
       "<span style=white-space:pre-wrap>'Multiple R-squared:  0.3755'</span>"
      ],
      "text/latex": [
       "'Multiple R-squared:  0.3755'"
      ],
      "text/markdown": [
       "<span style=white-space:pre-wrap>'Multiple R-squared:  0.3755'</span>"
      ],
      "text/plain": [
       "[1] \"Multiple R-squared:  0.3755\""
      ]
     },
     "metadata": {},
     "output_type": "display_data"
    },
    {
     "data": {
      "text/html": [
       "<span style=white-space:pre-wrap>'Adjust R-squared:  0.3200'</span>"
      ],
      "text/latex": [
       "'Adjust R-squared:  0.3200'"
      ],
      "text/markdown": [
       "<span style=white-space:pre-wrap>'Adjust R-squared:  0.3200'</span>"
      ],
      "text/plain": [
       "[1] \"Adjust R-squared:  0.3200\""
      ]
     },
     "metadata": {},
     "output_type": "display_data"
    }
   ],
   "source": [
    "# Build model\n",
    "model3 = lm(log(fraction_cases) ~ log(fraction_poverty) + log(Population.density.per.square.miles)  +\n",
    "            log(weekly_unemploy) + ln_days_business_closed, data = cdata)\n",
    "#Heterocadastic Robust Standard errors using White Standard errors\n",
    "coeftest(model3, vcov = vcovHC(model3, \"HC0\")) \n",
    "#Separately called R-squared and Adjusted R-squared\n",
    "paste(\"Multiple R-squared: \",format(round(summary(model3)$r.squared, 4), nsmall = 4))\n",
    "paste(\"Adjust R-squared: \",format(round(summary(model3)$adj.r.squared, 4), nsmall = 4))"
   ]
  },
  {
   "cell_type": "markdown",
   "metadata": {},
   "source": [
    "The fitted equation with the estimator is given:\n",
    "$$\\hat{y} = -3.96 + 0.169x_1 + 0.29x_2 - 0.32x_3 - 0.06x_4$$"
   ]
  },
  {
   "cell_type": "markdown",
   "metadata": {},
   "source": [
    "The coefficients for the two added variables were not statistically significant compared to our $\\alpha = 0.05$.  Model 3 still suggests that *population density* has the largest impact on *fraction_cases* based on the coefficients.\n",
    "\n",
    "Next, we look at Model 3's diagnostic plots."
   ]
  },
  {
   "cell_type": "code",
   "execution_count": 22,
   "metadata": {
    "collapsed": false
   },
   "outputs": [
    {
     "data": {
      "image/png": "[encoded data removed]",
      "text/plain": [
       "Plot with title \"\""
      ]
     },
     "metadata": {
      "image/png": {
       "height": 900,
       "width": 900
      },
      "text/plain": {
       "height": 900,
       "width": 900
      }
     },
     "output_type": "display_data"
    }
   ],
   "source": [
    "par(mfrow=c(2,2))\n",
    "options(repr.plot.width=15, repr.plot.height=15,repr.plot.pointsize=15)\n",
    "plot(model3)"
   ]
  },
  {
   "cell_type": "markdown",
   "metadata": {
    "colab_type": "text",
    "id": "uYx6JkyU2XTL"
   },
   "source": [
    "Figure 8.  Diagnostics plots for Model 3"
   ]
  },
  {
   "cell_type": "markdown",
   "metadata": {
    "colab_type": "text",
    "id": "LilcAA9D50BV"
   },
   "source": [
    "**Residuals vs Fited:** Relatively constant and suggest zero conditional mean is not violated.\n",
    "\n",
    "**Normal Q-Q:** Violation of normality of errors as seen with the tails deviating from the straigh diagonal line.\n",
    "\n",
    "**Scale-location:** Relatively constant and suggest homoscadacity.\n",
    "\n",
    "**Residuals vs leverage:** No values are outside of Cook's distance"
   ]
  },
  {
   "cell_type": "markdown",
   "metadata": {
    "colab_type": "text",
    "id": "mntQpGdE50BZ"
   },
   "source": [
    "### Classic Linear Model Assumption Compliance ###\n",
    "\n",
    "\n",
    "Statistical test will be used, they are sensitive to sample size. Due to our sample size being 48 it will be more difficult to have a statistically significant result.\n",
    "\n",
    "The assumtions will be test against our final model, **_Model2_**.\n"
   ]
  },
  {
   "cell_type": "markdown",
   "metadata": {
    "colab_type": "text",
    "id": "UiKz10Oz50Ba"
   },
   "source": [
    "#### CLM 1. \n",
    "\n",
    "Linear in Parameters.Our model has the form: $y = a + \\beta_1 \\cdot x_1 + \\beta_2 \\cdot x_2$, therefore the linearity assumption is met."
   ]
  },
  {
   "cell_type": "markdown",
   "metadata": {
    "colab_type": "text",
    "id": "xIGdC7Od50Ba"
   },
   "source": [
    "#### CLM 2. \n",
    "\n",
    "Zero conditional mean. Two things here;\n",
    "\n",
    "Firstly we actually calculated the mean directly for the error and have seen that it is in fact tending to zero.\n",
    "\n",
    "\n",
    "Secondly we can visually see on the \"Residuals vs Fitted\" scatter plot above that the black curve is very close to the zeroth abscissa and is mostly flat.Therefore this assumption is not violated."
   ]
  },
  {
   "cell_type": "code",
   "execution_count": 23,
   "metadata": {
    "colab": {},
    "colab_type": "code",
    "collapsed": false,
    "id": "83dMOuIm50Bb",
    "outputId": "778aa99d-2906-4de7-a20f-02f80028154d"
   },
   "outputs": [
    {
     "name": "stdout",
     "output_type": "stream",
     "text": [
      "The error term has a mean equal to =  5.37e-20 \n"
     ]
    },
    {
     "data": {
      "image/png": "[encoded data removed]",
      "text/plain": [
       "Plot with title \"\""
      ]
     },
     "metadata": {
      "image/png": {
       "height": 900,
       "width": 900
      },
      "text/plain": {
       "height": 900,
       "width": 900
      }
     },
     "output_type": "display_data"
    }
   ],
   "source": [
    "#Residuals vs Fitted\n",
    "plot(model2, which = 1)\n",
    "# Calculating the residuals from model 2.\n",
    "res <- residuals(model2)\n",
    "# Here we calculate the length of the residual set.\n",
    "len_res <- length(res)\n",
    "# Here we do a sum of the residuals entire.\n",
    "sum_res <- sum(res)\n",
    "# Here we calculate the mean of the error term and echo the output.\n",
    "mean_error_term <- sum_res/len_res\n",
    "cat(\"The error term has a mean equal to = \",format(mean_error_term, digits = 3),\"\\n\")"
   ]
  },
  {
   "cell_type": "markdown",
   "metadata": {
    "colab_type": "text",
    "id": "Rd9nicQa50Bf"
   },
   "source": [
    "#### CLM 3.\n",
    "\n",
    "All independent variables are uncorrelated with the error term. Given that the residual standard error for model 2 was low then it is proposed that this model exhibits exogeneity.\n",
    "that being said there were a considerable number of omitted variables in this database and therefore the analysis would have suffered in that regard."
   ]
  },
  {
   "cell_type": "code",
   "execution_count": 24,
   "metadata": {
    "colab": {
     "base_uri": "https://localhost:8080/",
     "height": 221
    },
    "colab_type": "code",
    "collapsed": false,
    "id": "DmdAjbTC50Bg",
    "outputId": "534d21af-cfb3-41b9-d256-766500ca078f"
   },
   "outputs": [
    {
     "data": {
      "text/plain": [
       "\n",
       "t test of coefficients:\n",
       "\n",
       "            Estimate Std. Error t value Pr(>|t|)\n",
       "(Intercept) 0.000463   1.573141       0        1\n"
      ]
     },
     "metadata": {},
     "output_type": "display_data"
    }
   ],
   "source": [
    "#Standard errors\n",
    "coeftest(model2, vcov = vcovHC(model3, \"HC0\")) "
   ]
  },
  {
   "cell_type": "code",
   "execution_count": 25,
   "metadata": {
    "colab": {
     "base_uri": "https://localhost:8080/",
     "height": 119
    },
    "colab_type": "code",
    "collapsed": false,
    "id": "4m7gcbgJ50Bj",
    "outputId": "279b3995-4082-467f-84a8-0cf4d2c36226"
   },
   "outputs": [
    {
     "data": {
      "text/plain": [
       "\n",
       "\tDurbin-Watson test\n",
       "\n",
       "data:  model2\n",
       "DW = 2.39, p-value = 0.91\n",
       "alternative hypothesis: true autocorrelation is greater than 0\n"
      ]
     },
     "metadata": {},
     "output_type": "display_data"
    }
   ],
   "source": [
    "#Error from one data point is not correlated with errors for the next data point.durbin-watson test\n",
    "#null hypothesis of no serial correlation; if significant, evidence of correlation.\n",
    "#there is no serial correlation as p-value is >.05\n",
    "dwtest(model2)"
   ]
  },
  {
   "cell_type": "markdown",
   "metadata": {
    "colab_type": "text",
    "id": "tJuGUVH050Bn"
   },
   "source": [
    "We will also use the formal statistical test for random sampling for a quantitative test, the Durbin-Watson test. The $H_0$ = no correlation, meaning if we have a p-value $<0.05$ we can reject $H_0$.\n",
    "Model seem to be have a $p-value > 0.05$ we fail to reject the $H_0$.\n",
    "Thus our models pass the assumption."
   ]
  },
  {
   "cell_type": "markdown",
   "metadata": {
    "colab_type": "text",
    "id": "YLojISGO50Bn"
   },
   "source": [
    "#### CLM 4 ####"
   ]
  },
  {
   "cell_type": "markdown",
   "metadata": {
    "colab_type": "text",
    "id": "LqvJ8PU550Bo"
   },
   "source": [
    "With reference to the Residuals versus Fitted plot, the plotted residuals data points show little sign of clustering, therefore the necessity of random sampling is suggested to  not have been violated. \n",
    "\n",
    "Although an argument can be made for clustering in our dataset as cases from New York have effected cases in New Jersey. For example, a person can be infected with COVID in New York and travel to New Jersey and transfer the infection to others. To address this we will be using robust standard errors."
   ]
  },
  {
   "cell_type": "code",
   "execution_count": 26,
   "metadata": {
    "colab": {
     "base_uri": "https://localhost:8080/",
     "height": 917
    },
    "colab_type": "code",
    "collapsed": false,
    "id": "HpUhJme5ofZW",
    "outputId": "306f7955-461b-4f59-be2b-447ae7b072ae"
   },
   "outputs": [
    {
     "data": {
      "image/png": "[encoded data removed]",
      "text/plain": [
       "Plot with title \"\""
      ]
     },
     "metadata": {
      "image/png": {
       "height": 900,
       "width": 900
      },
      "text/plain": {
       "height": 900,
       "width": 900
      }
     },
     "output_type": "display_data"
    }
   ],
   "source": [
    "plot(model2, which = 1)"
   ]
  },
  {
   "cell_type": "markdown",
   "metadata": {
    "colab_type": "text",
    "id": "_9AHUERK50Bo"
   },
   "source": [
    "#### CLM 5 ####"
   ]
  },
  {
   "cell_type": "markdown",
   "metadata": {
    "colab_type": "text",
    "id": "g3u-DHUc50Bp"
   },
   "source": [
    "Homoscedasticity. Qualitatively, the error terms have a pretty constant and random variance, exhibiting no heteroscedasticity.  There is little evidence to a cone or funnel like shaping, shift or twist about the zeroth axis and no clustering of the point.  This distribution of points would indicate homeoscedasticity.\n",
    "\n",
    "\n",
    "We will use the formal statistical test for heteroscedasticity, the Breush-Pagan test. The $H_0$ = homoscedasticity, meaning if we have a p-value $<0.05$ we can reject homoscedasticity.\n",
    "Our model;s Breush-Pagan p-value is $>0.05$ meaning we fail to reject the $H_0$. Therefore this assumption has not been violated.\n",
    "- We will use robust standard errors in our \"Regression Table\" eventhough we do not violate the assumption."
   ]
  },
  {
   "cell_type": "code",
   "execution_count": 27,
   "metadata": {
    "colab": {},
    "colab_type": "code",
    "collapsed": false,
    "id": "sikvbLIw50Bq",
    "outputId": "1d7a48f4-43cc-4062-ce59-0648ebb78323"
   },
   "outputs": [
    {
     "data": {
      "text/plain": [
       "\n",
       "\tstudentized Breusch-Pagan test\n",
       "\n",
       "data:  model2\n",
       "BP = 1.01, df = 2, p-value = 0.6\n"
      ]
     },
     "metadata": {},
     "output_type": "display_data"
    }
   ],
   "source": [
    "#sensitive to sample size, will  take large deviation from homoscedasticity to give us statistically significant result\n",
    "bptest(model2)"
   ]
  },
  {
   "cell_type": "markdown",
   "metadata": {
    "colab_type": "text",
    "id": "GxnqTzzM50Bv"
   },
   "source": [
    "#### CLM 6 ####"
   ]
  },
  {
   "cell_type": "markdown",
   "metadata": {
    "colab_type": "text",
    "id": "wpcTSt_U50Bv"
   },
   "source": [
    "No perfect multi-colinearity.  Firstly a correlation test matrix is created and a matrix of the **p-value** correlations is estimated.\n",
    "Secondly the **Variance Inflation Factor** is similarly calculated, ${VIF}=1/(1-R^2)$.  VIF is the reciprocal of the tolerance. Any VIF of 10 or more provides evidence of serious multicollinearity.  A VIF of 1 indicates two variables are not correlated, a VIF between 1 and 5 indicates moderate correlation, and a VIF above 5 indicates high correlation."
   ]
  },
  {
   "cell_type": "code",
   "execution_count": 28,
   "metadata": {
    "colab": {},
    "colab_type": "code",
    "collapsed": false,
    "id": "5wvtIz0J50Bw",
    "outputId": "8c6b29c7-6ed5-43e3-e52f-83c2f68034df"
   },
   "outputs": [
    {
     "data": {
      "text/html": [
       "<table>\n",
       "<caption>A matrix: 2 × 2 of type dbl</caption>\n",
       "<thead>\n",
       "\t<tr><th></th><th scope=col>X.fraction_poverty.</th><th scope=col>X.cdata.Population.density.per.square.miles.</th></tr>\n",
       "</thead>\n",
       "<tbody>\n",
       "\t<tr><th scope=row>X.fraction_poverty.</th><td> 1.0000</td><td>-0.2447</td></tr>\n",
       "\t<tr><th scope=row>X.cdata.Population.density.per.square.miles.</th><td>-0.2447</td><td> 1.0000</td></tr>\n",
       "</tbody>\n",
       "</table>\n"
      ],
      "text/latex": [
       "A matrix: 2 × 2 of type dbl\n",
       "\\begin{tabular}{r|ll}\n",
       "  & X.fraction\\_poverty. & X.cdata.Population.density.per.square.miles.\\\\\n",
       "\\hline\n",
       "\tX.fraction\\_poverty. &  1.0000 & -0.2447\\\\\n",
       "\tX.cdata.Population.density.per.square.miles. & -0.2447 &  1.0000\\\\\n",
       "\\end{tabular}\n"
      ],
      "text/markdown": [
       "\n",
       "A matrix: 2 × 2 of type dbl\n",
       "\n",
       "| <!--/--> | X.fraction_poverty. | X.cdata.Population.density.per.square.miles. |\n",
       "|---|---|---|\n",
       "| X.fraction_poverty. |  1.0000 | -0.2447 |\n",
       "| X.cdata.Population.density.per.square.miles. | -0.2447 |  1.0000 |\n",
       "\n"
      ],
      "text/plain": [
       "                                             X.fraction_poverty.\n",
       "X.fraction_poverty.                           1.0000            \n",
       "X.cdata.Population.density.per.square.miles. -0.2447            \n",
       "                                             X.cdata.Population.density.per.square.miles.\n",
       "X.fraction_poverty.                          -0.2447                                     \n",
       "X.cdata.Population.density.per.square.miles.  1.0000                                     "
      ]
     },
     "metadata": {},
     "output_type": "display_data"
    }
   ],
   "source": [
    "all_variables_transformations_inclusive = data.frame((fraction_poverty),(cdata$Population.density.per.square.miles))\n",
    "  \n",
    "#  Correlation matrix on model 3, natural log values of the\n",
    "res2 <- rcorr(as.matrix(all_variables_transformations_inclusive))\n",
    "res2$r"
   ]
  },
  {
   "cell_type": "code",
   "execution_count": 29,
   "metadata": {
    "colab": {
     "base_uri": "https://localhost:8080/",
     "height": 34
    },
    "colab_type": "code",
    "collapsed": false,
    "id": "E6NCycDfofZg",
    "outputId": "a8485acd-7c24-458f-e706-4229d9f93fde"
   },
   "outputs": [
    {
     "data": {
      "text/html": [
       "<style>\n",
       ".dl-inline {width: auto; margin:0; padding: 0}\n",
       ".dl-inline>dt, .dl-inline>dd {float: none; width: auto; display: inline-block}\n",
       ".dl-inline>dt::after {content: \":\\0020\"; padding-right: .5ex}\n",
       ".dl-inline>dt:not(:first-of-type) {padding-left: .5ex}\n",
       "</style><dl class=dl-inline><dt>log(fraction_poverty)</dt><dd>1.31666391482573</dd><dt>log(Population.density.per.square.miles)</dt><dd>1.13655402749022</dd><dt>log(weekly_unemploy)</dt><dd>1.31887986885898</dd><dt>ln_days_business_closed</dt><dd>1.12895321674002</dd></dl>\n"
      ],
      "text/latex": [
       "\\begin{description*}\n",
       "\\item[log(fraction\\textbackslash{}\\_poverty)] 1.31666391482573\n",
       "\\item[log(Population.density.per.square.miles)] 1.13655402749022\n",
       "\\item[log(weekly\\textbackslash{}\\_unemploy)] 1.31887986885898\n",
       "\\item[ln\\textbackslash{}\\_days\\textbackslash{}\\_business\\textbackslash{}\\_closed] 1.12895321674002\n",
       "\\end{description*}\n"
      ],
      "text/markdown": [
       "log(fraction_poverty)\n",
       ":   1.31666391482573log(Population.density.per.square.miles)\n",
       ":   1.13655402749022log(weekly_unemploy)\n",
       ":   1.31887986885898ln_days_business_closed\n",
       ":   1.12895321674002\n",
       "\n"
      ],
      "text/plain": [
       "                   log(fraction_poverty) \n",
       "                                  1.3167 \n",
       "log(Population.density.per.square.miles) \n",
       "                                  1.1366 \n",
       "                    log(weekly_unemploy) \n",
       "                                  1.3189 \n",
       "                 ln_days_business_closed \n",
       "                                  1.1290 "
      ]
     },
     "metadata": {},
     "output_type": "display_data"
    }
   ],
   "source": [
    "# Variance Inflation Factor calculation using model 3.\n",
    "vif(model3)"
   ]
  },
  {
   "cell_type": "markdown",
   "metadata": {
    "colab_type": "text",
    "id": "zS1Qdz1750B7"
   },
   "source": [
    "The VIF test indicates towards a low correlation. From our test correlation matrix test we have a minimal correlation.\n",
    "The p-values are less than a $0.05$ confidence coefficient, meaning the results are statistically significant and that no multi-colinearity is evidenced.\n",
    "\n",
    "From both Correlation matrix and VIF test, we do not have a perfect multi-colinearity, thus the assumption is not violated."
   ]
  },
  {
   "cell_type": "markdown",
   "metadata": {
    "colab_type": "text",
    "id": "MJa3vAZp50CA"
   },
   "source": [
    "Using the formal statistical test for normality, the Shapiro-Wilk normality test, The $H_0$ = residuals are drawn from a population with a normal distribtion, meaning if we have a p-value $<0.05$ we can reject the $H_0$.\n",
    "Our models seem to have a $p-value <0.05$, thus allow us to reject the $H_0$. A small value of W inthe Shapiro-Wilk test would indicate a divergence from normality. The results from these tests would indicate that this assumption has been violated."
   ]
  },
  {
   "cell_type": "markdown",
   "metadata": {
    "colab_type": "text",
    "id": "U5zUmIfi50B7"
   },
   "source": [
    "#### CLM 7 ####"
   ]
  },
  {
   "cell_type": "markdown",
   "metadata": {
    "colab_type": "text",
    "id": "XltrNwWM50B8"
   },
   "source": [
    "For this we must prove the normality of the errors."
   ]
  },
  {
   "cell_type": "code",
   "execution_count": 30,
   "metadata": {
    "colab": {},
    "colab_type": "code",
    "collapsed": false,
    "id": "wFMcAJRf50B9",
    "outputId": "3e0e2834-6794-411a-93ed-b3bf6e375c08"
   },
   "outputs": [
    {
     "data": {
      "text/html": [
       "<style>\n",
       ".dl-inline {width: auto; margin:0; padding: 0}\n",
       ".dl-inline>dt, .dl-inline>dd {float: none; width: auto; display: inline-block}\n",
       ".dl-inline>dt::after {content: \":\\0020\"; padding-right: .5ex}\n",
       ".dl-inline>dt:not(:first-of-type) {padding-left: .5ex}\n",
       "</style><dl class=dl-inline><dt>34</dt><dd>32</dd><dt>50</dt><dd>48</dd></dl>\n"
      ],
      "text/latex": [
       "\\begin{description*}\n",
       "\\item[34] 32\n",
       "\\item[50] 48\n",
       "\\end{description*}\n"
      ],
      "text/markdown": [
       "34\n",
       ":   3250\n",
       ":   48\n",
       "\n"
      ],
      "text/plain": [
       "34 50 \n",
       "32 48 "
      ]
     },
     "metadata": {},
     "output_type": "display_data"
    },
    {
     "data": {
      "text/plain": [
       "\n",
       "\tShapiro-Wilk normality test\n",
       "\n",
       "data:  res\n",
       "W = 0.97, p-value = 0.23\n"
      ]
     },
     "metadata": {},
     "output_type": "display_data"
    },
    {
     "data": {
      "image/png": "[encoded data removed]",
      "text/plain": [
       "Plot with title \"QQ plot of Residuals_model_3\""
      ]
     },
     "metadata": {
      "image/png": {
       "height": 420,
       "width": 780
      },
      "text/plain": {
       "height": 420,
       "width": 780
      }
     },
     "output_type": "display_data"
    }
   ],
   "source": [
    "# Extracting the residuals from the model, which are the differences between the observed and model fitted values.\n",
    "par(mfrow=c(1,2))\n",
    "options(repr.plot.width=13, repr.plot.height=7,repr.plot.pointsize=11)\n",
    "plotNormalHistogram(res, main= \"Histogram of Residuals\",xlab=\"model_3_residuals\",col=\"red\")\n",
    "qqPlot(res, main=\"QQ plot of Residuals_model_3\",col=\"red\",lwd=6)\n",
    "# Shapiro-Wilk normality test\n",
    "# W measures deviations from normality, if W is large (>0.05) then the sample is likely to have been drawn from a normal distribution.\n",
    "shapiro.test(res)"
   ]
  },
  {
   "cell_type": "markdown",
   "metadata": {},
   "source": [
    "Using the formal statistical test for normality, the Shapiro-Wilk normality test, the  𝐻0  = residuals are drawn from a population with a normal distribtion, meaning if we have a p-value  <0.05  we can reject the  𝐻0 . Our models seem to have a  𝑝−𝑣𝑎𝑙𝑢𝑒<0.05 , thus allow us to reject the  𝐻0 . A small value of W inthe Shapiro-Wilk test would indicate a divergence from normality. The results from these tests would indicate that this assumption has been violated.\n",
    "\n",
    "\n",
    "Furthermore, the Residuals, the difference between observed and predicted values, should be normally distributed to conform with OLS. The Histogram show us the distribution of the residuals are non-normal. The QQ-plot, Quantile-Quantile, provides information regarding the whether or not the data could plausibly come from a Normal distribution. The data points should fall upon a relatively straight line, which is not the case here.\n",
    "However, due to the model's large sample size, n = 50, CLT tells us that our estimators will tend towards a normal sampling distribution."
   ]
  },
  {
   "cell_type": "markdown",
   "metadata": {
    "colab_type": "text",
    "id": "EW73vO-X50CF"
   },
   "source": [
    "### Regression Table ###\n",
    "With the aid of a regression table we can see statistically how the two models performed side by side.\n",
    "There is marked difference in the performation of model 2 in terms of statistical significance in terms of the **p-values** and $R^2$ values calculated."
   ]
  },
  {
   "cell_type": "code",
   "execution_count": 31,
   "metadata": {
    "colab": {
     "base_uri": "https://localhost:8080/",
     "height": 680
    },
    "colab_type": "code",
    "collapsed": false,
    "id": "IjcKJntL50CG",
    "outputId": "b78e589b-b464-4cd2-b855-6f87654218da",
    "scrolled": false
   },
   "outputs": [
    {
     "name": "stdout",
     "output_type": "stream",
     "text": [
      "\n",
      "============================================================================================\n",
      "                                                         Dependent variable:                \n",
      "                                         ---------------------------------------------------\n",
      "                                                 fraction_cases          log(fraction_cases)\n",
      "                                               (1)             (2)               (3)        \n",
      "--------------------------------------------------------------------------------------------\n",
      "fraction_poverty                              0.005          0.034*                         \n",
      "                                             (0.023)         (0.018)                        \n",
      "                                                                                            \n",
      "Population.density.per.square.miles                        0.00002***                       \n",
      "                                                            (0.00000)                       \n",
      "                                                                                            \n",
      "log(fraction_poverty)                                                           0.188       \n",
      "                                                                               (0.515)      \n",
      "                                                                                            \n",
      "log(Population.density.per.square.miles)                                      0.312***      \n",
      "                                                                               (0.056)      \n",
      "                                                                                            \n",
      "log(weekly_unemploy)                                                           -0.448*      \n",
      "                                                                               (0.267)      \n",
      "                                                                                            \n",
      "ln_days_business_closed                                                        -0.051       \n",
      "                                                                               (0.055)      \n",
      "                                                                                            \n",
      "Constant                                     0.007**         0.0005            -3.204*      \n",
      "                                             (0.003)         (0.002)           (1.774)      \n",
      "                                                                                            \n",
      "--------------------------------------------------------------------------------------------\n",
      "Observations                                   50              50                50         \n",
      "R2                                            0.001           0.544             0.376       \n",
      "Adjusted R2                                  -0.020           0.525             0.320       \n",
      "Residual Std. Error                      0.005 (df = 48) 0.003 (df = 47)   0.590 (df = 45)  \n",
      "============================================================================================\n",
      "Note:                                                            *p<0.1; **p<0.05; ***p<0.01\n",
      "\n",
      "=================\n",
      "0.050 0.010 0.001\n",
      "-----------------\n"
     ]
    }
   ],
   "source": [
    "#  Here we create a regression table to compare the two models coefficients, statistical significance and independent variables operating directly.\n",
    "se.model1 = sqrt(diag(vcovHC(model1)))\n",
    "se.model2 = sqrt(diag(vcovHC(model2)))\n",
    "se.model3 = sqrt(diag(vcovHC(model3)))\n",
    "#  Using stargazer to provide a nice comparison table.\n",
    "stargazer(model1, model2, model3, type=\"text\",omit.stat =\"f\", se = list(se.model1, se.model2, se.model3),tar.cutoffs = c(0.05,0.01,0.001))"
   ]
  },
  {
   "cell_type": "markdown",
   "metadata": {
    "colab_type": "text",
    "id": "SGvfEpqYofZ6"
   },
   "source": [
    "**Model 1**\n",
    "- There is no statistical significane in the coefficient. The $R^2$ hardly explains any variation.\n",
    "\n",
    "**Model 2 **\n",
    "- Both coefficients are statistically significant.\n",
    "- Incomparison to **Model 1** the $R^2$ has increased and now explains 54% of the variation.\n",
    "- The addition of **Population Density** improved the model.\n",
    "\n",
    "**Model 3**\n",
    "- The coefficients for the two added variables were not statistically significant compared to our 𝛼=0.05\n",
    "- Model 3 still suggests that population density has the largest impact on fraction_cases based on the coefficients."
   ]
  },
  {
   "cell_type": "markdown",
   "metadata": {
    "colab_type": "text",
    "id": "q0H0Z5NDofZ9"
   },
   "source": [
    "## Discussion of omitted variables ##\n",
    "Omitted bias is certainly potentially an issue when relevant independent variables have not been included in the model, wherein the relationship becomes potentially biased.\n",
    "This would be a variable that actually should be central to the true population model. This causes a situation where the model attributes the effects of omitted variables to variables that are present in the model, which will bias the coefficient estimates calculated by the model.\n",
    "Where $\\hat{\\beta}_0$ is the intercept of the straight line fit. $\\hat{\\beta}_1$, $\\hat{\\beta}_2$, etc... represent the average change in the dependent variable per unit change in that independent variable $x$.  In a linear response with only one independent variable, $\\hat{\\beta}_1$ represents the slope of the regression, which the partial effect of independent variable $x_{1}$ upon $\\hat{y}$.\n",
    "The regression coefficients are estimates of the unknown population parameters and describe the relationship between the predictor variables(s) and the response. In linear regression the coefficients are the values that scale the predictor values. In the single regression model, introduced previously, the first model coefficient is $\\hat{\\beta}_1$ and the predictor is $x_{1}$. If the linear regression model is specified incorrectly, either because the independent variables are omitted or the data is missing, this can cause bias to creep into the model. This can be severe as it may lead to the results being unreliable. Directly the coefficients can be calculated incorrectly can lead to:\n",
    "\n",
    "1. <em>An underestimation of an effect(s).</em>\n",
    "2. <em>An overestimation of an effect(s).</em>\n",
    "3. <em>A change of sign of an effect.</em>\n",
    "4. <em>Masking of an effect working in the model.</em>\n",
    "\n",
    "The Gauss-Markov theorem states that if your linear regression model satisfies the first six classical assumptions, the ordinary least squares (OLS) regression produces unbiased estimates. If the expected value of the estimator approaches the population parameter the estimate is unbiased and conversely biased otherwise.\n",
    "Only seven variables in the database should be discussed when assessing their merit for inclusion in the mutlivariate analysis.  These are:\n",
    "\n",
    "1. <em>“state_of_emergency”</em>\n",
    "2. <em>“stay_at_home”</em>\n",
    "3. <em>“end_of_stay_at_home”</em>\n",
    "4. <em>“closure_non_essentials”</em>\n",
    "5. <em>“business_reopen_statewide”</em>\n",
    "6. <em>“mandate_face_masks”</em>\n",
    "7. <em>“weekly_unemployment_insurance_maximum”</em>\n",
    "\n",
    "Variables 1, 2, 3, 4, 5 and 7 above would all be relatable to potential poverty outcomes, which is true.  That being said we should remember that the poverty-line statistics provided in the dataset for were recorded by census in 2018, a full 15 months before the pandemic occured!  The data from the poverty-line measure taken in 2018 is therefore perfectly insensitive to variables (1-5,7) all changing and being influencers of the pandemic in 2020.  Yes are potentially influencers but it not possible to relate them to the the 2018 poverty metric.\n",
    "It would be very difficult to argue that any of the variables (1 through 7) on that list influenced a built environment variable like population density, which was also operationalized in this study as an independent variable.  Mass human evacuations to other areas has not been a feature of the Covid-19 outbreak response; in fact \"stay at home\" has been the order of the day. It takes years, nay decades, to alter population density significantly, so therefore it would be difficult to argue that the Covid-19 outbreak significantly affected the population_density predictor this study operationalised.  The <em>\"Population_2018\"</em> metric per state is accounted for already in the <em>\"population_per_square_mile\"</em> variable that was operationalized.\n",
    "Missing variables are probably more concerning than not using other data columns which are available in the database. There are most certainly alternate independent variables which are very likely to have the potential to both reduce or increase the level of positive cases in each state.\n",
    "By way of example we list an obvious column of data that would clearly influence infections, namely <em>“percentage of state population wearing masks in public\"</em>.  That column is obviously not present in the dataset.  If we however focus upon the data we did operationalize, are there useful variables that would help understand them?  Having a <em>\"percentage of poverty line metric who had human-contacting occupations\"</em> would have helped refine any direct connection between that and the infection totals coming from that sub-group of the population sample.  Again and obviously that information was not present in the dataset.\n",
    "Other data was available in the database and we address that here.\n",
    "\n",
    "1. <em>\"Total_Death\"</em>\n",
    "2. <em>\"Death_100k\"</em>\n",
    "3. <em>\"CasesInLast7Days\"</em>\n",
    "4. <em>\"RatePer100000\"</em>\n",
    "\n",
    "The above four columns are good possible choices as dependent variables; in that we could have chosen to fit observations to create a fitted model for them.  In short this is stating that they would be comparable metrics to the <em>\"Total Cases\"</em> variable chosen as the basis as the response variable.  They would have represented an alternate choice for that, but would offer little for creating a precise model for the <em>\"Total Cases\"</em> fit, if chosen as predictors on the right hand side of the linear equation it is arguable that they would have proven themselves to too closely linked to the chosen response variable as they fundamentally a facet of the same phenomenon being measured.\n",
    "The <em>\"totalTestResults\"</em> variable tells us nothing about actual infection totals, since it is just total number of tests performed.  If could be strongly argued that if more tests were done then the likely number of infections would rise.\n",
    "The <em>\"poverty-line\"</em> metric is measured including all age groupings, based upon households and dependent-dwellers therein.  Subsequently any of the age columns in the dataset provided would infer and therefore assist little with respect to any analysis of that specific metric.  This is a significant source of omitted variables however.  The age breakdown in households in poverty, their health status, the incidence of 'underlying conditions' which reduced health outcomes in those households and the population density within households would all have been helpful in reducing bias and achieving a better fit.\n",
    "The proportion of those below the poverty in front-line essential roles would also have helped to assess if a discernible relationship between infection (a poor health outcome) and poverty cold have been established.\n"
   ]
  },
  {
   "cell_type": "markdown",
   "metadata": {
    "colab_type": "text",
    "id": "kAHwIqnG50CJ"
   },
   "source": [
    "## Conclusion ##"
   ]
  },
  {
   "cell_type": "markdown",
   "metadata": {
    "colab_type": "text",
    "id": "y1Jc-f6G50CJ"
   },
   "source": [
    "The research question as proposed was whether or not the estimate of poverty identified could be indicative of the total Covid-19 positive cases reported in states in the USA.\n",
    "This could be put as poverty (people below the federal poverty line) are more likely to succumb to COVID-19 infection.  So we are looking for an associative link.  One does not cause the other, but it is proposed that one is likely seen when the other is prevalent. The wider context is that  economic hardship and poor health outcomes have been strongly linked in significant and long term peer-reviewed academic research, some of which we have been referenced to in this document.\n",
    "\n",
    "- In the analysis conducted here, it was found that there was no statistically significant link between the total infection numbers and the poverty line statistic.  This was established in **Model 1** with a near zero $R^2$ relationship between the two. A result is a result.\n",
    "\n",
    "This is a surprising result given the amount of published hard research that strongly underlines the co-relationship of poverty and the incidence of disease and ill-health.  That being said the authors do note the research of Finch and Finch (2020) [9], where they found that higher infection rates in impoverished groups became less discernible as the pandemic increased in pace and time, to the point where poorer groups could not be statistically separate from the general infection rates of the population.  Several reasons can be suggested for this.  Lack of testing resources is a major concern as the true rate of infection and its distribution in the population is not know.  Equity in testing and its availability is of particular concern, as the disadvantaged are likely to be at the back of the queue for this also, certainly in a society where health are is not free at the point of need.  There is no guarantee that the testing processes and facilities that were available were distributed on an equitable basis.  Lower paid workers were certainly very important in providing a great share of the front-line essential services during the pandemic.  Those people with less financial would not be able to quarantine to the same extent to those who have the economic facilities to do so for extended periods.  Many people in this group live a hand-to-mouth existence and not working is really not an option.\n",
    "\n",
    "Thereore and necessarily the the analysis evolved and additional independent variables were operationalized, namely population density, weekly unemployment insurance and days to business closed.\n",
    "\n",
    "These were added to multivariate linear regression models containing several predictors for the response.\n",
    "All predictors in **Model 2** are significant with **p-values < 0.01** and medium correlating **R-squared** values for **Model  2**. Economic hardship and poor health outcomes have been strongly linked in significant and long term peer-reviewed academic research, some of which we have been referenced in this document. There may be some variables that are considered in the model that may also impact tatal cases based on poverty.\n",
    "\n",
    "Based on **Model 2** we are capturing 55% of the variability in the response variable. Excepting the variables we have used, after examination none of the other columns available in the dataset have added to the predicitve capabilities of the models previously discussed. Omitted variables were strongly considered and discussed at length."
   ]
  },
  {
   "cell_type": "markdown",
   "metadata": {
    "colab_type": "text",
    "id": "-VxlDkDw50CK"
   },
   "source": [
    "### References ###"
   ]
  },
  {
   "cell_type": "markdown",
   "metadata": {
    "colab_type": "text",
    "id": "qqMmlq9y50CK"
   },
   "source": [
    "[1]     Nocka K, Jones D, Bor J, Lipson S, Jay J, and Chan P. (2020) *_COVID-19 US state policy database (CUSP)_*, [Cited; Available at: https://docs.google.com/spreadsheets/d/1zu9qEWI8PsOI_i8nI_S29HDGHlIp2lfVMsGxpQ5tvAQ/edit#gid=1357478819]    \n",
    "\n",
    "[2]     Dalaker J., (2018), *_Poverty in the United States 2018: In Brief_*, Congressional Research Service, CRS Report Prepared for Members and Committees of Congress. [cited; Available from, https://crsreports.congress.gov, R4600].    \n",
    "\n",
    "[3]     Goodman, J., Conway, C., (2016), _Poor Health: When Poverty Becomes Disease, University of California_ [SF],  [cited; Available from, https://www.ucsf.edu/news/2016/01/401251/poor-health-when-poverty-becomes-disease].    \n",
    "\n",
    "[4]     W.H.O., (2017), *_Social determinants of health_*, World Health Organization,\n",
    "[cited; Available from, https://www.who.int/social_determinants/sdh_definition/en/].    \n",
    "\n",
    "[5] The Covid tracking Project (2020), *_Kentucky Overview_*, [cited; Available from: https://covidtracking.com/data/state/kentucky#historical]    \n",
    "\n",
    "[6] KFF, (2020), *_Population Distribution by Age_*,[cited; Available from: https://www.kff.org/other/state-indicator/distribution-by-age/?currentTimeframe=0&selectedRows=%7B%22states%22:%7B%22ohio%22:%7B%7D%7D%7D&sortModel=%7B%22colId%22:%22Location%22,%22sort%22:%22asc%22%7D.]\n",
    "\n",
    "[7] John Hopkins University, (2020) *_Covid 19 Cases By County_*, [cited; Available from: https://coronavirus.jhu.edu/us-map]\n",
    "\n",
    "[8]. Karen T. and Matt B., (2006) *_Poverty and Population Density: Implications for Economic Development Policy_*, [cited; Available from: https://files.eric.ed.gov/fulltext/EJ1093003.pdf]\n",
    "\n",
    "[9] Holmes Finch , W. and Hernández Finch, M. (2020) *_Poverty and Covid-19: Rates of Incidence and Deaths in the United States During the First 10 Weeks of the Pandemic_*, [cited; Available from: https://www.frontiersin.org/articles/10.3389/fsoc.2020.00047/full]"
   ]
  }
 ],
 "metadata": {
  "anaconda-cloud": {},
  "colab": {
   "collapsed_sections": [
    "UiKz10Oz50Ba",
    "xIGdC7Od50Ba",
    "U5zUmIfi50B7"
   ],
   "name": "[Version_6_1]_Vybros_lab_3.ipynb",
   "provenance": []
  },
  "environment": {
   "name": "tf2-gpu.2-1.m50",
   "type": "gcloud",
   "uri": "gcr.io/deeplearning-platform-release/tf2-gpu.2-1:m50"
  },
  "kernelspec": {
   "display_name": "R",
   "language": "R",
   "name": "ir"
  },
  "language_info": {
   "codemirror_mode": "r",
   "file_extension": ".r",
   "mimetype": "text/x-r-source",
   "name": "R",
   "pygments_lexer": "r",
   "version": "4.0.0"
  }
 },
 "nbformat": 4,
 "nbformat_minor": 0
}
